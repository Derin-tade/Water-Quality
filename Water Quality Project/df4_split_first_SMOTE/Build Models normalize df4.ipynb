{
 "cells": [
  {
   "cell_type": "code",
   "execution_count": 1,
   "id": "6510ef4a",
   "metadata": {},
   "outputs": [],
   "source": [
    "# For this practical example we will need the following libraries and modules\n",
    "import numpy as np\n",
    "import pandas as pd\n",
    "import statsmodels.api as sm\n",
    "import matplotlib.pyplot as plt\n",
    "from sklearn.linear_model import LinearRegression\n",
    "import seaborn as sns\n",
    "sns.set()"
   ]
  },
  {
   "cell_type": "markdown",
   "id": "1c604cfa",
   "metadata": {},
   "source": [
    "### Import df\n",
    "Near Miss Undersampled unpreprocessed data."
   ]
  },
  {
   "cell_type": "code",
   "execution_count": 2,
   "id": "87648ed7",
   "metadata": {},
   "outputs": [],
   "source": [
    "df4 = pd.read_csv(\"df4.csv\")"
   ]
  },
  {
   "cell_type": "code",
   "execution_count": 3,
   "id": "282d070a",
   "metadata": {},
   "outputs": [
    {
     "data": {
      "text/html": [
       "<div>\n",
       "<style scoped>\n",
       "    .dataframe tbody tr th:only-of-type {\n",
       "        vertical-align: middle;\n",
       "    }\n",
       "\n",
       "    .dataframe tbody tr th {\n",
       "        vertical-align: top;\n",
       "    }\n",
       "\n",
       "    .dataframe thead th {\n",
       "        text-align: right;\n",
       "    }\n",
       "</style>\n",
       "<table border=\"1\" class=\"dataframe\">\n",
       "  <thead>\n",
       "    <tr style=\"text-align: right;\">\n",
       "      <th></th>\n",
       "      <th>aluminium</th>\n",
       "      <th>ammonia</th>\n",
       "      <th>arsenic</th>\n",
       "      <th>barium</th>\n",
       "      <th>cadmium</th>\n",
       "      <th>chloramine</th>\n",
       "      <th>chromium</th>\n",
       "      <th>copper</th>\n",
       "      <th>flouride</th>\n",
       "      <th>bacteria</th>\n",
       "      <th>...</th>\n",
       "      <th>lead</th>\n",
       "      <th>nitrates</th>\n",
       "      <th>nitrites</th>\n",
       "      <th>mercury</th>\n",
       "      <th>perchlorate</th>\n",
       "      <th>radium</th>\n",
       "      <th>selenium</th>\n",
       "      <th>silver</th>\n",
       "      <th>uranium</th>\n",
       "      <th>is_safe</th>\n",
       "    </tr>\n",
       "  </thead>\n",
       "  <tbody>\n",
       "    <tr>\n",
       "      <th>0</th>\n",
       "      <td>0.08</td>\n",
       "      <td>0.06</td>\n",
       "      <td>0.01</td>\n",
       "      <td>1.39</td>\n",
       "      <td>0.080</td>\n",
       "      <td>0.32</td>\n",
       "      <td>0.00</td>\n",
       "      <td>1.15</td>\n",
       "      <td>0.53</td>\n",
       "      <td>0.66</td>\n",
       "      <td>...</td>\n",
       "      <td>0.088</td>\n",
       "      <td>8.69</td>\n",
       "      <td>1.86</td>\n",
       "      <td>0.001</td>\n",
       "      <td>0.04</td>\n",
       "      <td>3.44</td>\n",
       "      <td>0.00</td>\n",
       "      <td>0.06</td>\n",
       "      <td>0.02</td>\n",
       "      <td>0</td>\n",
       "    </tr>\n",
       "    <tr>\n",
       "      <th>1</th>\n",
       "      <td>0.06</td>\n",
       "      <td>29.11</td>\n",
       "      <td>0.09</td>\n",
       "      <td>1.56</td>\n",
       "      <td>0.080</td>\n",
       "      <td>0.10</td>\n",
       "      <td>0.08</td>\n",
       "      <td>1.19</td>\n",
       "      <td>0.38</td>\n",
       "      <td>0.84</td>\n",
       "      <td>...</td>\n",
       "      <td>0.064</td>\n",
       "      <td>7.23</td>\n",
       "      <td>1.00</td>\n",
       "      <td>0.005</td>\n",
       "      <td>2.84</td>\n",
       "      <td>2.40</td>\n",
       "      <td>0.07</td>\n",
       "      <td>0.04</td>\n",
       "      <td>0.06</td>\n",
       "      <td>0</td>\n",
       "    </tr>\n",
       "    <tr>\n",
       "      <th>2</th>\n",
       "      <td>0.10</td>\n",
       "      <td>23.90</td>\n",
       "      <td>0.02</td>\n",
       "      <td>2.77</td>\n",
       "      <td>0.003</td>\n",
       "      <td>1.07</td>\n",
       "      <td>0.54</td>\n",
       "      <td>1.35</td>\n",
       "      <td>1.03</td>\n",
       "      <td>0.04</td>\n",
       "      <td>...</td>\n",
       "      <td>0.067</td>\n",
       "      <td>13.92</td>\n",
       "      <td>1.31</td>\n",
       "      <td>0.000</td>\n",
       "      <td>12.23</td>\n",
       "      <td>2.42</td>\n",
       "      <td>0.05</td>\n",
       "      <td>0.23</td>\n",
       "      <td>0.00</td>\n",
       "      <td>0</td>\n",
       "    </tr>\n",
       "    <tr>\n",
       "      <th>3</th>\n",
       "      <td>4.46</td>\n",
       "      <td>28.08</td>\n",
       "      <td>0.02</td>\n",
       "      <td>3.93</td>\n",
       "      <td>0.004</td>\n",
       "      <td>5.10</td>\n",
       "      <td>0.38</td>\n",
       "      <td>0.52</td>\n",
       "      <td>0.22</td>\n",
       "      <td>0.69</td>\n",
       "      <td>...</td>\n",
       "      <td>0.064</td>\n",
       "      <td>12.59</td>\n",
       "      <td>1.37</td>\n",
       "      <td>0.004</td>\n",
       "      <td>47.56</td>\n",
       "      <td>6.63</td>\n",
       "      <td>0.03</td>\n",
       "      <td>0.14</td>\n",
       "      <td>0.07</td>\n",
       "      <td>0</td>\n",
       "    </tr>\n",
       "    <tr>\n",
       "      <th>4</th>\n",
       "      <td>4.41</td>\n",
       "      <td>26.35</td>\n",
       "      <td>0.95</td>\n",
       "      <td>4.14</td>\n",
       "      <td>0.020</td>\n",
       "      <td>8.01</td>\n",
       "      <td>0.55</td>\n",
       "      <td>1.62</td>\n",
       "      <td>1.48</td>\n",
       "      <td>0.99</td>\n",
       "      <td>...</td>\n",
       "      <td>0.162</td>\n",
       "      <td>1.81</td>\n",
       "      <td>1.41</td>\n",
       "      <td>0.003</td>\n",
       "      <td>23.10</td>\n",
       "      <td>7.87</td>\n",
       "      <td>0.02</td>\n",
       "      <td>0.31</td>\n",
       "      <td>0.04</td>\n",
       "      <td>0</td>\n",
       "    </tr>\n",
       "  </tbody>\n",
       "</table>\n",
       "<p>5 rows × 21 columns</p>\n",
       "</div>"
      ],
      "text/plain": [
       "   aluminium  ammonia  arsenic  barium  cadmium  chloramine  chromium  copper  \\\n",
       "0       0.08     0.06     0.01    1.39    0.080        0.32      0.00    1.15   \n",
       "1       0.06    29.11     0.09    1.56    0.080        0.10      0.08    1.19   \n",
       "2       0.10    23.90     0.02    2.77    0.003        1.07      0.54    1.35   \n",
       "3       4.46    28.08     0.02    3.93    0.004        5.10      0.38    0.52   \n",
       "4       4.41    26.35     0.95    4.14    0.020        8.01      0.55    1.62   \n",
       "\n",
       "   flouride  bacteria  ...   lead  nitrates  nitrites  mercury  perchlorate  \\\n",
       "0      0.53      0.66  ...  0.088      8.69      1.86    0.001         0.04   \n",
       "1      0.38      0.84  ...  0.064      7.23      1.00    0.005         2.84   \n",
       "2      1.03      0.04  ...  0.067     13.92      1.31    0.000        12.23   \n",
       "3      0.22      0.69  ...  0.064     12.59      1.37    0.004        47.56   \n",
       "4      1.48      0.99  ...  0.162      1.81      1.41    0.003        23.10   \n",
       "\n",
       "   radium  selenium  silver  uranium  is_safe  \n",
       "0    3.44      0.00    0.06     0.02        0  \n",
       "1    2.40      0.07    0.04     0.06        0  \n",
       "2    2.42      0.05    0.23     0.00        0  \n",
       "3    6.63      0.03    0.14     0.07        0  \n",
       "4    7.87      0.02    0.31     0.04        0  \n",
       "\n",
       "[5 rows x 21 columns]"
      ]
     },
     "execution_count": 3,
     "metadata": {},
     "output_type": "execute_result"
    }
   ],
   "source": [
    "df4.head()"
   ]
  },
  {
   "cell_type": "markdown",
   "id": "4c5269af",
   "metadata": {},
   "source": [
    "#### Split into featues and labels and check shape"
   ]
  },
  {
   "cell_type": "code",
   "execution_count": 4,
   "id": "a6d713c7",
   "metadata": {},
   "outputs": [],
   "source": [
    "X = df4.drop(['is_safe'],axis=1)\n",
    "y = df4[\"is_safe\"]"
   ]
  },
  {
   "cell_type": "markdown",
   "id": "396915d1",
   "metadata": {},
   "source": [
    "#### Preprocess data. "
   ]
  },
  {
   "cell_type": "code",
   "execution_count": 5,
   "id": "71aea626",
   "metadata": {},
   "outputs": [],
   "source": [
    "# Import the scaling module\n",
    "from sklearn.preprocessing import StandardScaler\n",
    "\n",
    "# Create a scaler object\n",
    "scaler = StandardScaler()"
   ]
  },
  {
   "cell_type": "code",
   "execution_count": 6,
   "id": "014dffd7",
   "metadata": {},
   "outputs": [],
   "source": [
    "# fit and transform on the input data at a single time and converts the data points. \n",
    "# Scale the features and store them in a new variable (the actual scaling procedure)\n",
    "X_scaled = pd.DataFrame(scaler.fit_transform(X),columns=X.columns,index=X.index)"
   ]
  },
  {
   "cell_type": "code",
   "execution_count": 7,
   "id": "f85b24d5",
   "metadata": {},
   "outputs": [
    {
     "name": "stdout",
     "output_type": "stream",
     "text": [
      "Shape of X_scaled a shape of (11384, 20)\n",
      "\n",
      "Shape of 'y' targets a shape of (11384,)\n"
     ]
    }
   ],
   "source": [
    "print(f\"Shape of X_scaled a shape of {X_scaled.shape}\\n\")\n",
    "print(f\"Shape of 'y' targets a shape of {y.shape}\")"
   ]
  },
  {
   "cell_type": "code",
   "execution_count": 8,
   "id": "298ec540",
   "metadata": {},
   "outputs": [
    {
     "data": {
      "text/plain": [
       "0    5692\n",
       "1    5692\n",
       "Name: is_safe, dtype: int64"
      ]
     },
     "execution_count": 8,
     "metadata": {},
     "output_type": "execute_result"
    }
   ],
   "source": [
    "df4[\"is_safe\"].value_counts()"
   ]
  },
  {
   "cell_type": "markdown",
   "id": "f5319e37",
   "metadata": {},
   "source": [
    "#### Split into train and test sets."
   ]
  },
  {
   "cell_type": "code",
   "execution_count": 9,
   "id": "6e0a7067",
   "metadata": {},
   "outputs": [],
   "source": [
    "from sklearn.model_selection import train_test_split"
   ]
  },
  {
   "cell_type": "code",
   "execution_count": 10,
   "id": "80174a80",
   "metadata": {},
   "outputs": [],
   "source": [
    "X_train,X_val,y_train,y_val = train_test_split(X_scaled,y,random_state=22,train_size=.8)"
   ]
  },
  {
   "cell_type": "markdown",
   "id": "b87f57ab",
   "metadata": {},
   "source": [
    "#### Bring in the test dataset"
   ]
  },
  {
   "cell_type": "code",
   "execution_count": 11,
   "id": "aa8f8328",
   "metadata": {},
   "outputs": [],
   "source": [
    "test_df = pd.read_csv(\"test_df.csv\")"
   ]
  },
  {
   "cell_type": "code",
   "execution_count": 12,
   "id": "70073383",
   "metadata": {},
   "outputs": [],
   "source": [
    "X_test = test_df.drop(['is_safe'],axis=1)\n",
    "y_test = test_df[\"is_safe\"]"
   ]
  },
  {
   "cell_type": "code",
   "execution_count": 13,
   "id": "770b8d90",
   "metadata": {},
   "outputs": [],
   "source": [
    "# fit and transform on the input data at a single time and converts the data points. \n",
    "# Scale the features and store them in a new variable (the actual scaling procedure)\n",
    "X_test_scaled = pd.DataFrame(scaler.transform(X_test),columns=X_test.columns,index=X_test.index)"
   ]
  },
  {
   "cell_type": "markdown",
   "id": "38cf6f43",
   "metadata": {},
   "source": [
    "## Build Models"
   ]
  },
  {
   "cell_type": "code",
   "execution_count": 14,
   "id": "9c036f83",
   "metadata": {},
   "outputs": [
    {
     "name": "stdout",
     "output_type": "stream",
     "text": [
      "Packages imported...\n"
     ]
    }
   ],
   "source": [
    "# Models\n",
    "# import torch\n",
    "# import torch.nn as nn\n",
    "from sklearn.svm import SVC\n",
    "from sklearn.linear_model import LogisticRegression\n",
    "from sklearn.ensemble import RandomForestClassifier\n",
    "from sklearn.tree import DecisionTreeClassifier\n",
    "from sklearn.ensemble import GradientBoostingClassifier\n",
    "\n",
    "# Metrics\n",
    "from sklearn.metrics import accuracy_score, classification_report, roc_curve\n",
    "\n",
    "# Cross Validation\n",
    "from sklearn.model_selection import cross_val_score\n",
    "from sklearn.model_selection import GridSearchCV\n",
    "\n",
    "print('Packages imported...')"
   ]
  },
  {
   "cell_type": "code",
   "execution_count": 15,
   "id": "cce0546a",
   "metadata": {},
   "outputs": [
    {
     "name": "stdout",
     "output_type": "stream",
     "text": [
      "The test accuracy score of SVM is  0.8001756697408872\n"
     ]
    }
   ],
   "source": [
    "# instantiating the object and fitting\n",
    "clf = SVC(kernel='linear', C=1, random_state=22).fit(X_train,y_train)\n",
    "\n",
    "# predicting the values\n",
    "y_pred = clf.predict(X_val)\n",
    "\n",
    "# printing the test accuracy\n",
    "print(\"The test accuracy score of SVM is \", accuracy_score(y_val, y_pred))"
   ]
  },
  {
   "cell_type": "code",
   "execution_count": 16,
   "id": "cf73d281",
   "metadata": {},
   "outputs": [],
   "source": [
    "\n",
    "# # instantiating the object\n",
    "# svm = SVC()\n",
    "\n",
    "# # setting a grid - not so extensive\n",
    "# parameters = {\"C\":np.arange(1,10,1),'gamma':[0.005,0.01,0.05,0.1]}\n",
    "\n",
    "# # instantiating the GridSearchCV object\n",
    "# searcher = GridSearchCV(svm, parameters)\n",
    "\n",
    "# # fitting the object\n",
    "# searcher.fit(X_train_scaled, y_train)\n",
    "\n",
    "# # the scores\n",
    "# print(\"The best params are :\", searcher.best_params_)\n",
    "# print(\"The best score is   :\", searcher.best_score_)\n"
   ]
  },
  {
   "cell_type": "code",
   "execution_count": 17,
   "id": "5241ae4a",
   "metadata": {},
   "outputs": [],
   "source": [
    "\n",
    "# # predicting the values\n",
    "# y_pred = searcher.predict(X_test_scaled)\n",
    "\n",
    "# # printing the test accuracy\n",
    "# print(\"The test accuracy score of SVM after hyper-parameter tuning is \", accuracy_score(y_test, y_pred))"
   ]
  },
  {
   "cell_type": "markdown",
   "id": "cadf1423",
   "metadata": {},
   "source": [
    "### Train the Logistic Regression model"
   ]
  },
  {
   "cell_type": "code",
   "execution_count": 18,
   "id": "62eaecbc",
   "metadata": {},
   "outputs": [],
   "source": [
    "reg = LogisticRegression()"
   ]
  },
  {
   "cell_type": "code",
   "execution_count": 19,
   "id": "0a2b8b23",
   "metadata": {},
   "outputs": [
    {
     "data": {
      "text/plain": [
       "LogisticRegression()"
      ]
     },
     "execution_count": 19,
     "metadata": {},
     "output_type": "execute_result"
    }
   ],
   "source": [
    "reg.fit(X_train,y_train)"
   ]
  },
  {
   "cell_type": "code",
   "execution_count": 20,
   "id": "fa62fad8",
   "metadata": {},
   "outputs": [
    {
     "data": {
      "text/plain": [
       "0.8003733391896344"
      ]
     },
     "execution_count": 20,
     "metadata": {},
     "output_type": "execute_result"
    }
   ],
   "source": [
    "reg.score(X_train,y_train)"
   ]
  },
  {
   "cell_type": "code",
   "execution_count": null,
   "id": "c6929c46",
   "metadata": {},
   "outputs": [],
   "source": []
  },
  {
   "cell_type": "markdown",
   "id": "f584b7a5",
   "metadata": {},
   "source": [
    "### Testing the model"
   ]
  },
  {
   "cell_type": "code",
   "execution_count": 21,
   "id": "3b88559e",
   "metadata": {},
   "outputs": [
    {
     "data": {
      "text/plain": [
       "0.7944664031620553"
      ]
     },
     "execution_count": 21,
     "metadata": {},
     "output_type": "execute_result"
    }
   ],
   "source": [
    "#validation testing\n",
    "reg.score(X_val,y_val)"
   ]
  },
  {
   "cell_type": "code",
   "execution_count": 22,
   "id": "4dd73b58",
   "metadata": {},
   "outputs": [
    {
     "data": {
      "text/plain": [
       "0.79875"
      ]
     },
     "execution_count": 22,
     "metadata": {},
     "output_type": "execute_result"
    }
   ],
   "source": [
    "reg.score(X_test_scaled,y_test)"
   ]
  },
  {
   "cell_type": "markdown",
   "id": "336c59ec",
   "metadata": {},
   "source": [
    "### Train the Gradient Boosting Classifier model"
   ]
  },
  {
   "cell_type": "code",
   "execution_count": 23,
   "id": "fef92932",
   "metadata": {},
   "outputs": [
    {
     "data": {
      "text/plain": [
       "GradientBoostingClassifier(max_depth=1, max_features=0.2, n_estimators=300,\n",
       "                           random_state=42, subsample=0.8)"
      ]
     },
     "execution_count": 23,
     "metadata": {},
     "output_type": "execute_result"
    }
   ],
   "source": [
    "# instantiate the classifier\n",
    "gbt = GradientBoostingClassifier(n_estimators = 300,max_depth=1,subsample=0.8,max_features=0.2,random_state=42)\n",
    "\n",
    "# fitting the model\n",
    "gbt.fit(X_train,y_train)\n"
   ]
  },
  {
   "cell_type": "code",
   "execution_count": 24,
   "id": "2dcef393",
   "metadata": {},
   "outputs": [
    {
     "name": "stdout",
     "output_type": "stream",
     "text": [
      "The test accuracy score of Gradient Boosting Classifier is  0.8840579710144928\n"
     ]
    }
   ],
   "source": [
    "# predicting values with validation set\n",
    "y_val_pred = gbt.predict(X_val)\n",
    "print(\"The validation accuracy score of Gradient Boosting Classifier is \", accuracy_score(y_val, y_val_pred))"
   ]
  },
  {
   "cell_type": "code",
   "execution_count": 25,
   "id": "3ff49678",
   "metadata": {},
   "outputs": [
    {
     "name": "stdout",
     "output_type": "stream",
     "text": [
      "The test accuracy score of Gradient Boosting Classifier is  0.888125\n"
     ]
    }
   ],
   "source": [
    "# predicting values with test set\n",
    "y_test_pred = gbt.predict(X_test_scaled)\n",
    "print(\"The test accuracy score of Gradient Boosting Classifier is \", accuracy_score(y_test, y_test_pred))"
   ]
  },
  {
   "cell_type": "code",
   "execution_count": null,
   "id": "67942389",
   "metadata": {},
   "outputs": [],
   "source": []
  }
 ],
 "metadata": {
  "kernelspec": {
   "display_name": "Python 3 (ipykernel)",
   "language": "python",
   "name": "python3"
  },
  "language_info": {
   "codemirror_mode": {
    "name": "ipython",
    "version": 3
   },
   "file_extension": ".py",
   "mimetype": "text/x-python",
   "name": "python",
   "nbconvert_exporter": "python",
   "pygments_lexer": "ipython3",
   "version": "3.9.7"
  }
 },
 "nbformat": 4,
 "nbformat_minor": 5
}
