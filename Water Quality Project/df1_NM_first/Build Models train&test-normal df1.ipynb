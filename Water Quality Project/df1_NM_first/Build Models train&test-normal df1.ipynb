{
 "cells": [
  {
   "cell_type": "code",
   "execution_count": 22,
   "id": "6510ef4a",
   "metadata": {},
   "outputs": [],
   "source": [
    "# For this practical example we will need the following libraries and modules\n",
    "import numpy as np\n",
    "import pandas as pd"
   ]
  },
  {
   "cell_type": "markdown",
   "id": "1c604cfa",
   "metadata": {},
   "source": [
    "### Import df\n",
    "Near Miss Undersampled unpreprocessed data."
   ]
  },
  {
   "cell_type": "code",
   "execution_count": 23,
   "id": "87648ed7",
   "metadata": {},
   "outputs": [],
   "source": [
    "df1 = pd.read_csv(\"df1.csv\")"
   ]
  },
  {
   "cell_type": "code",
   "execution_count": 24,
   "id": "282d070a",
   "metadata": {},
   "outputs": [
    {
     "data": {
      "text/html": [
       "<div>\n",
       "<style scoped>\n",
       "    .dataframe tbody tr th:only-of-type {\n",
       "        vertical-align: middle;\n",
       "    }\n",
       "\n",
       "    .dataframe tbody tr th {\n",
       "        vertical-align: top;\n",
       "    }\n",
       "\n",
       "    .dataframe thead th {\n",
       "        text-align: right;\n",
       "    }\n",
       "</style>\n",
       "<table border=\"1\" class=\"dataframe\">\n",
       "  <thead>\n",
       "    <tr style=\"text-align: right;\">\n",
       "      <th></th>\n",
       "      <th>aluminium</th>\n",
       "      <th>ammonia</th>\n",
       "      <th>arsenic</th>\n",
       "      <th>barium</th>\n",
       "      <th>cadmium</th>\n",
       "      <th>chloramine</th>\n",
       "      <th>chromium</th>\n",
       "      <th>copper</th>\n",
       "      <th>flouride</th>\n",
       "      <th>bacteria</th>\n",
       "      <th>...</th>\n",
       "      <th>lead</th>\n",
       "      <th>nitrates</th>\n",
       "      <th>nitrites</th>\n",
       "      <th>mercury</th>\n",
       "      <th>perchlorate</th>\n",
       "      <th>radium</th>\n",
       "      <th>selenium</th>\n",
       "      <th>silver</th>\n",
       "      <th>uranium</th>\n",
       "      <th>is_safe</th>\n",
       "    </tr>\n",
       "  </thead>\n",
       "  <tbody>\n",
       "    <tr>\n",
       "      <th>0</th>\n",
       "      <td>0.93</td>\n",
       "      <td>20.77</td>\n",
       "      <td>0.02</td>\n",
       "      <td>3.23</td>\n",
       "      <td>0.004</td>\n",
       "      <td>4.00</td>\n",
       "      <td>0.71</td>\n",
       "      <td>1.56</td>\n",
       "      <td>0.63</td>\n",
       "      <td>0.00</td>\n",
       "      <td>...</td>\n",
       "      <td>0.142</td>\n",
       "      <td>6.29</td>\n",
       "      <td>1.62</td>\n",
       "      <td>0.007</td>\n",
       "      <td>46.27</td>\n",
       "      <td>1.77</td>\n",
       "      <td>0.06</td>\n",
       "      <td>0.03</td>\n",
       "      <td>0.01</td>\n",
       "      <td>0</td>\n",
       "    </tr>\n",
       "    <tr>\n",
       "      <th>1</th>\n",
       "      <td>0.10</td>\n",
       "      <td>24.03</td>\n",
       "      <td>0.07</td>\n",
       "      <td>0.45</td>\n",
       "      <td>0.050</td>\n",
       "      <td>0.15</td>\n",
       "      <td>0.02</td>\n",
       "      <td>0.57</td>\n",
       "      <td>0.61</td>\n",
       "      <td>0.13</td>\n",
       "      <td>...</td>\n",
       "      <td>0.117</td>\n",
       "      <td>6.74</td>\n",
       "      <td>0.30</td>\n",
       "      <td>0.003</td>\n",
       "      <td>1.74</td>\n",
       "      <td>0.80</td>\n",
       "      <td>0.02</td>\n",
       "      <td>0.07</td>\n",
       "      <td>0.02</td>\n",
       "      <td>0</td>\n",
       "    </tr>\n",
       "    <tr>\n",
       "      <th>2</th>\n",
       "      <td>0.30</td>\n",
       "      <td>14.51</td>\n",
       "      <td>0.05</td>\n",
       "      <td>2.01</td>\n",
       "      <td>0.004</td>\n",
       "      <td>0.41</td>\n",
       "      <td>0.36</td>\n",
       "      <td>0.26</td>\n",
       "      <td>1.41</td>\n",
       "      <td>0.34</td>\n",
       "      <td>...</td>\n",
       "      <td>0.050</td>\n",
       "      <td>7.85</td>\n",
       "      <td>1.16</td>\n",
       "      <td>0.003</td>\n",
       "      <td>1.01</td>\n",
       "      <td>0.63</td>\n",
       "      <td>0.03</td>\n",
       "      <td>0.19</td>\n",
       "      <td>0.04</td>\n",
       "      <td>0</td>\n",
       "    </tr>\n",
       "    <tr>\n",
       "      <th>3</th>\n",
       "      <td>0.04</td>\n",
       "      <td>6.20</td>\n",
       "      <td>0.06</td>\n",
       "      <td>0.28</td>\n",
       "      <td>0.040</td>\n",
       "      <td>0.59</td>\n",
       "      <td>0.02</td>\n",
       "      <td>0.33</td>\n",
       "      <td>0.82</td>\n",
       "      <td>0.29</td>\n",
       "      <td>...</td>\n",
       "      <td>0.093</td>\n",
       "      <td>1.51</td>\n",
       "      <td>1.00</td>\n",
       "      <td>0.004</td>\n",
       "      <td>1.40</td>\n",
       "      <td>0.03</td>\n",
       "      <td>0.03</td>\n",
       "      <td>0.03</td>\n",
       "      <td>0.05</td>\n",
       "      <td>0</td>\n",
       "    </tr>\n",
       "    <tr>\n",
       "      <th>4</th>\n",
       "      <td>0.08</td>\n",
       "      <td>14.36</td>\n",
       "      <td>0.05</td>\n",
       "      <td>1.31</td>\n",
       "      <td>0.050</td>\n",
       "      <td>0.08</td>\n",
       "      <td>0.04</td>\n",
       "      <td>0.26</td>\n",
       "      <td>1.41</td>\n",
       "      <td>0.34</td>\n",
       "      <td>...</td>\n",
       "      <td>0.050</td>\n",
       "      <td>7.85</td>\n",
       "      <td>1.16</td>\n",
       "      <td>0.003</td>\n",
       "      <td>0.33</td>\n",
       "      <td>0.11</td>\n",
       "      <td>0.03</td>\n",
       "      <td>0.06</td>\n",
       "      <td>0.04</td>\n",
       "      <td>0</td>\n",
       "    </tr>\n",
       "  </tbody>\n",
       "</table>\n",
       "<p>5 rows × 21 columns</p>\n",
       "</div>"
      ],
      "text/plain": [
       "   aluminium  ammonia  arsenic  barium  cadmium  chloramine  chromium  copper  \\\n",
       "0       0.93    20.77     0.02    3.23    0.004        4.00      0.71    1.56   \n",
       "1       0.10    24.03     0.07    0.45    0.050        0.15      0.02    0.57   \n",
       "2       0.30    14.51     0.05    2.01    0.004        0.41      0.36    0.26   \n",
       "3       0.04     6.20     0.06    0.28    0.040        0.59      0.02    0.33   \n",
       "4       0.08    14.36     0.05    1.31    0.050        0.08      0.04    0.26   \n",
       "\n",
       "   flouride  bacteria  ...   lead  nitrates  nitrites  mercury  perchlorate  \\\n",
       "0      0.63      0.00  ...  0.142      6.29      1.62    0.007        46.27   \n",
       "1      0.61      0.13  ...  0.117      6.74      0.30    0.003         1.74   \n",
       "2      1.41      0.34  ...  0.050      7.85      1.16    0.003         1.01   \n",
       "3      0.82      0.29  ...  0.093      1.51      1.00    0.004         1.40   \n",
       "4      1.41      0.34  ...  0.050      7.85      1.16    0.003         0.33   \n",
       "\n",
       "   radium  selenium  silver  uranium  is_safe  \n",
       "0    1.77      0.06    0.03     0.01        0  \n",
       "1    0.80      0.02    0.07     0.02        0  \n",
       "2    0.63      0.03    0.19     0.04        0  \n",
       "3    0.03      0.03    0.03     0.05        0  \n",
       "4    0.11      0.03    0.06     0.04        0  \n",
       "\n",
       "[5 rows x 21 columns]"
      ]
     },
     "execution_count": 24,
     "metadata": {},
     "output_type": "execute_result"
    }
   ],
   "source": [
    "df1.head()"
   ]
  },
  {
   "cell_type": "markdown",
   "id": "4c5269af",
   "metadata": {},
   "source": [
    "#### Split into featues and labels and check shape"
   ]
  },
  {
   "cell_type": "code",
   "execution_count": 25,
   "id": "a6d713c7",
   "metadata": {},
   "outputs": [],
   "source": [
    "X = df1.drop(['is_safe'],axis=1)\n",
    "y = df1[\"is_safe\"]"
   ]
  },
  {
   "cell_type": "markdown",
   "id": "641d67d5",
   "metadata": {},
   "source": [
    "#### Split into train and test sets."
   ]
  },
  {
   "cell_type": "code",
   "execution_count": 26,
   "id": "55444e4c",
   "metadata": {},
   "outputs": [],
   "source": [
    "from sklearn.model_selection import train_test_split"
   ]
  },
  {
   "cell_type": "code",
   "execution_count": 27,
   "id": "18ff4f5b",
   "metadata": {},
   "outputs": [],
   "source": [
    "X_train,X_test,y_train,y_test = train_test_split(X,y,random_state=22,train_size=.8)"
   ]
  },
  {
   "cell_type": "markdown",
   "id": "396915d1",
   "metadata": {},
   "source": [
    "#### Preprocess data. "
   ]
  },
  {
   "cell_type": "code",
   "execution_count": 28,
   "id": "71aea626",
   "metadata": {},
   "outputs": [],
   "source": [
    "# Import the scaling module\n",
    "from sklearn.preprocessing import StandardScaler\n",
    "\n",
    "# Create a scaler object\n",
    "scaler = StandardScaler()"
   ]
  },
  {
   "cell_type": "code",
   "execution_count": 29,
   "id": "014dffd7",
   "metadata": {},
   "outputs": [],
   "source": [
    "# fit and transform on the input data at a single time and converts the data points. \n",
    "# Scale the features and store them in a new variable (the actual scaling procedure)\n",
    "X_train_scaled = pd.DataFrame(scaler.fit_transform(X_train),columns=X.columns,index=X_train.index)"
   ]
  },
  {
   "cell_type": "code",
   "execution_count": 30,
   "id": "f85b24d5",
   "metadata": {},
   "outputs": [
    {
     "name": "stdout",
     "output_type": "stream",
     "text": [
      "Shape of X_train_scaled a shape of (1459, 20)\n",
      "\n",
      "Shape of 'y_train' targets a shape of (1459,)\n"
     ]
    }
   ],
   "source": [
    "print(f\"Shape of X_train_scaled a shape of {X_train_scaled.shape}\\n\")\n",
    "print(f\"Shape of 'y_train' targets a shape of {y_train.shape}\")"
   ]
  },
  {
   "cell_type": "code",
   "execution_count": 31,
   "id": "298ec540",
   "metadata": {},
   "outputs": [
    {
     "data": {
      "text/plain": [
       "0    912\n",
       "1    912\n",
       "Name: is_safe, dtype: int64"
      ]
     },
     "execution_count": 31,
     "metadata": {},
     "output_type": "execute_result"
    }
   ],
   "source": [
    "df1[\"is_safe\"].value_counts()"
   ]
  },
  {
   "cell_type": "code",
   "execution_count": 32,
   "id": "ee1f45f3",
   "metadata": {},
   "outputs": [],
   "source": [
    "X_test_scaled = pd.DataFrame(scaler.transform(X_test),columns=X.columns,index=X_test.index)"
   ]
  },
  {
   "cell_type": "markdown",
   "id": "46e91c76",
   "metadata": {},
   "source": [
    "## Build Models"
   ]
  },
  {
   "cell_type": "code",
   "execution_count": 33,
   "id": "47fc99b4",
   "metadata": {},
   "outputs": [
    {
     "name": "stdout",
     "output_type": "stream",
     "text": [
      "Packages imported...\n"
     ]
    }
   ],
   "source": [
    "# Models\n",
    "# import torch\n",
    "# import torch.nn as nn\n",
    "from sklearn.svm import SVC\n",
    "from sklearn.linear_model import LogisticRegression\n",
    "from sklearn.ensemble import RandomForestClassifier\n",
    "from sklearn.tree import DecisionTreeClassifier\n",
    "from sklearn.ensemble import GradientBoostingClassifier\n",
    "\n",
    "# Metrics\n",
    "from sklearn.metrics import accuracy_score, classification_report, roc_curve\n",
    "\n",
    "# Cross Validation\n",
    "from sklearn.model_selection import cross_val_score\n",
    "from sklearn.model_selection import GridSearchCV\n",
    "\n",
    "print('Packages imported...')"
   ]
  },
  {
   "cell_type": "code",
   "execution_count": 45,
   "id": "98df37ce",
   "metadata": {},
   "outputs": [
    {
     "name": "stdout",
     "output_type": "stream",
     "text": [
      "The test accuracy score of SVM is  0.8958904109589041\n"
     ]
    }
   ],
   "source": [
    "# instantiating the object and fitting\n",
    "clf = SVC(kernel='linear', C=1, random_state=42).fit(X_train_scaled,y_train)\n",
    "\n",
    "# predicting the values\n",
    "y_pred = clf.predict(X_test_scaled)\n",
    "\n",
    "# printing the test accuracy\n",
    "print(\"The test accuracy score of SVM is \", accuracy_score(y_test, y_pred))"
   ]
  },
  {
   "cell_type": "code",
   "execution_count": 35,
   "id": "06fd2722",
   "metadata": {},
   "outputs": [],
   "source": [
    "\n",
    "# # instantiating the object\n",
    "# svm = SVC()\n",
    "\n",
    "# # setting a grid - not so extensive\n",
    "# parameters = {\"C\":np.arange(1,10,1),'gamma':[0.00001,0.00005, 0.0001,0.0005,0.001,0.005,0.01,0.05,0.1,0.5,1,5]}\n",
    "\n",
    "# # instantiating the GridSearchCV object\n",
    "# searcher = GridSearchCV(svm, parameters)\n",
    "\n",
    "# # fitting the object\n",
    "# searcher.fit(X_train_scaled, y_train)\n",
    "\n",
    "# # the scores\n",
    "# print(\"The best params are :\", searcher.best_params_)\n",
    "# print(\"The best score is   :\", searcher.best_score_)\n"
   ]
  },
  {
   "cell_type": "code",
   "execution_count": 36,
   "id": "590b1cf5",
   "metadata": {},
   "outputs": [],
   "source": [
    "\n",
    "# # predicting the values\n",
    "# y_pred = searcher.predict(X_test_scaled)\n",
    "\n",
    "# # printing the test accuracy\n",
    "# print(\"The test accuracy score of SVM after hyper-parameter tuning is \", accuracy_score(y_test, y_pred))"
   ]
  },
  {
   "cell_type": "markdown",
   "id": "cadf1423",
   "metadata": {},
   "source": [
    "### Train the model"
   ]
  },
  {
   "cell_type": "code",
   "execution_count": 37,
   "id": "62eaecbc",
   "metadata": {},
   "outputs": [],
   "source": [
    "reg = LogisticRegression()"
   ]
  },
  {
   "cell_type": "code",
   "execution_count": 38,
   "id": "0a2b8b23",
   "metadata": {},
   "outputs": [
    {
     "data": {
      "text/plain": [
       "LogisticRegression()"
      ]
     },
     "execution_count": 38,
     "metadata": {},
     "output_type": "execute_result"
    }
   ],
   "source": [
    "reg.fit(X_train_scaled,y_train)"
   ]
  },
  {
   "cell_type": "code",
   "execution_count": 39,
   "id": "fa62fad8",
   "metadata": {},
   "outputs": [
    {
     "data": {
      "text/plain": [
       "0.8752570253598355"
      ]
     },
     "execution_count": 39,
     "metadata": {},
     "output_type": "execute_result"
    }
   ],
   "source": [
    "reg.score(X_train_scaled,y_train)"
   ]
  },
  {
   "cell_type": "markdown",
   "id": "f584b7a5",
   "metadata": {},
   "source": [
    "### Testing the model"
   ]
  },
  {
   "cell_type": "code",
   "execution_count": 40,
   "id": "3b88559e",
   "metadata": {},
   "outputs": [
    {
     "data": {
      "text/plain": [
       "0.8876712328767123"
      ]
     },
     "execution_count": 40,
     "metadata": {},
     "output_type": "execute_result"
    }
   ],
   "source": [
    "reg.score(X_test_scaled,y_test)"
   ]
  },
  {
   "cell_type": "markdown",
   "id": "faa5aff2",
   "metadata": {},
   "source": [
    "### Train the Gradient Boosting Classifier model"
   ]
  },
  {
   "cell_type": "code",
   "execution_count": 43,
   "id": "2c23ff49",
   "metadata": {},
   "outputs": [
    {
     "data": {
      "text/plain": [
       "GradientBoostingClassifier(max_depth=1, max_features=0.2, n_estimators=300,\n",
       "                           random_state=22, subsample=0.8)"
      ]
     },
     "execution_count": 43,
     "metadata": {},
     "output_type": "execute_result"
    }
   ],
   "source": [
    "# instantiate the classifier\n",
    "gbt = GradientBoostingClassifier(n_estimators = 300,max_depth=1,subsample=0.8,max_features=0.2,random_state=22)\n",
    "\n",
    "# fitting the model\n",
    "gbt.fit(X_train_scaled,y_train)\n"
   ]
  },
  {
   "cell_type": "code",
   "execution_count": 44,
   "id": "caae78e2",
   "metadata": {},
   "outputs": [
    {
     "name": "stdout",
     "output_type": "stream",
     "text": [
      "The test accuracy score of Gradient Boosting Classifier is  0.9095890410958904\n"
     ]
    }
   ],
   "source": [
    "# predicting values\n",
    "y_pred = gbt.predict(X_test_scaled)\n",
    "print(\"The test accuracy score of Gradient Boosting Classifier is \", accuracy_score(y_test, y_pred))"
   ]
  },
  {
   "cell_type": "code",
   "execution_count": null,
   "id": "a1baf9d3",
   "metadata": {},
   "outputs": [],
   "source": []
  }
 ],
 "metadata": {
  "kernelspec": {
   "display_name": "Python 3 (ipykernel)",
   "language": "python",
   "name": "python3"
  },
  "language_info": {
   "codemirror_mode": {
    "name": "ipython",
    "version": 3
   },
   "file_extension": ".py",
   "mimetype": "text/x-python",
   "name": "python",
   "nbconvert_exporter": "python",
   "pygments_lexer": "ipython3",
   "version": "3.9.7"
  }
 },
 "nbformat": 4,
 "nbformat_minor": 5
}
