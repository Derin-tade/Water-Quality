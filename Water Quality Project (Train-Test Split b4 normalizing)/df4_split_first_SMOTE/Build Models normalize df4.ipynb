{
 "cells": [
  {
   "cell_type": "code",
   "execution_count": 1,
   "id": "6510ef4a",
   "metadata": {},
   "outputs": [],
   "source": [
    "# For this practical example we will need the following libraries and modules\n",
    "import numpy as np\n",
    "import pandas as pd\n",
    "import statsmodels.api as sm\n",
    "import matplotlib.pyplot as plt\n",
    "from sklearn.linear_model import LinearRegression\n",
    "import seaborn as sns\n",
    "sns.set()"
   ]
  },
  {
   "cell_type": "markdown",
   "id": "1c604cfa",
   "metadata": {},
   "source": [
    "### Import df\n",
    "Near Miss Undersampled unpreprocessed data."
   ]
  },
  {
   "cell_type": "code",
   "execution_count": 2,
   "id": "87648ed7",
   "metadata": {},
   "outputs": [],
   "source": [
    "df4 = pd.read_csv(\"df_4.csv\")"
   ]
  },
  {
   "cell_type": "code",
   "execution_count": 13,
   "id": "282d070a",
   "metadata": {},
   "outputs": [
    {
     "data": {
      "text/plain": [
       "(11384, 21)"
      ]
     },
     "execution_count": 13,
     "metadata": {},
     "output_type": "execute_result"
    }
   ],
   "source": [
    "df4.shape"
   ]
  },
  {
   "cell_type": "markdown",
   "id": "4c5269af",
   "metadata": {},
   "source": [
    "#### Split into featues and labels and check shape"
   ]
  },
  {
   "cell_type": "code",
   "execution_count": 4,
   "id": "a6d713c7",
   "metadata": {},
   "outputs": [],
   "source": [
    "X = df4.drop(['is_safe'],axis=1)\n",
    "y = df4[\"is_safe\"]"
   ]
  },
  {
   "cell_type": "code",
   "execution_count": 5,
   "id": "6e0a7067",
   "metadata": {},
   "outputs": [],
   "source": [
    "from sklearn.model_selection import train_test_split"
   ]
  },
  {
   "cell_type": "code",
   "execution_count": 6,
   "id": "80174a80",
   "metadata": {},
   "outputs": [],
   "source": [
    "X_train,X_val,y_train,y_val = train_test_split(X,y,random_state=22,train_size=.8)"
   ]
  },
  {
   "cell_type": "markdown",
   "id": "47e66ee6",
   "metadata": {},
   "source": [
    "#### Bring in the test dataset"
   ]
  },
  {
   "cell_type": "code",
   "execution_count": 7,
   "id": "2928df1f",
   "metadata": {},
   "outputs": [],
   "source": [
    "test_df = pd.read_csv(\"test_df.csv\")"
   ]
  },
  {
   "cell_type": "code",
   "execution_count": 8,
   "id": "c4aba9ae",
   "metadata": {},
   "outputs": [
    {
     "data": {
      "text/html": [
       "<div>\n",
       "<style scoped>\n",
       "    .dataframe tbody tr th:only-of-type {\n",
       "        vertical-align: middle;\n",
       "    }\n",
       "\n",
       "    .dataframe tbody tr th {\n",
       "        vertical-align: top;\n",
       "    }\n",
       "\n",
       "    .dataframe thead th {\n",
       "        text-align: right;\n",
       "    }\n",
       "</style>\n",
       "<table border=\"1\" class=\"dataframe\">\n",
       "  <thead>\n",
       "    <tr style=\"text-align: right;\">\n",
       "      <th></th>\n",
       "      <th>aluminium</th>\n",
       "      <th>ammonia</th>\n",
       "      <th>arsenic</th>\n",
       "      <th>barium</th>\n",
       "      <th>cadmium</th>\n",
       "      <th>chloramine</th>\n",
       "      <th>chromium</th>\n",
       "      <th>copper</th>\n",
       "      <th>flouride</th>\n",
       "      <th>bacteria</th>\n",
       "      <th>...</th>\n",
       "      <th>lead</th>\n",
       "      <th>nitrates</th>\n",
       "      <th>nitrites</th>\n",
       "      <th>mercury</th>\n",
       "      <th>perchlorate</th>\n",
       "      <th>radium</th>\n",
       "      <th>selenium</th>\n",
       "      <th>silver</th>\n",
       "      <th>uranium</th>\n",
       "      <th>is_safe</th>\n",
       "    </tr>\n",
       "  </thead>\n",
       "  <tbody>\n",
       "    <tr>\n",
       "      <th>0</th>\n",
       "      <td>-0.517843</td>\n",
       "      <td>-1.400497</td>\n",
       "      <td>-0.559848</td>\n",
       "      <td>-0.133324</td>\n",
       "      <td>1.313181</td>\n",
       "      <td>-0.818123</td>\n",
       "      <td>-0.649210</td>\n",
       "      <td>0.387533</td>\n",
       "      <td>0.712511</td>\n",
       "      <td>-0.971987</td>\n",
       "      <td>...</td>\n",
       "      <td>1.525902</td>\n",
       "      <td>-0.494693</td>\n",
       "      <td>-1.080676</td>\n",
       "      <td>0.611859</td>\n",
       "      <td>-0.690397</td>\n",
       "      <td>-1.156120</td>\n",
       "      <td>1.763157</td>\n",
       "      <td>-0.886571</td>\n",
       "      <td>-1.658623</td>\n",
       "      <td>0</td>\n",
       "    </tr>\n",
       "    <tr>\n",
       "      <th>1</th>\n",
       "      <td>2.365361</td>\n",
       "      <td>0.841681</td>\n",
       "      <td>-0.201009</td>\n",
       "      <td>-0.495673</td>\n",
       "      <td>-0.632929</td>\n",
       "      <td>-0.012255</td>\n",
       "      <td>-0.908475</td>\n",
       "      <td>1.013632</td>\n",
       "      <td>1.079696</td>\n",
       "      <td>1.535372</td>\n",
       "      <td>...</td>\n",
       "      <td>-1.267104</td>\n",
       "      <td>-1.586650</td>\n",
       "      <td>1.885917</td>\n",
       "      <td>1.286243</td>\n",
       "      <td>1.594850</td>\n",
       "      <td>1.613292</td>\n",
       "      <td>1.763157</td>\n",
       "      <td>0.231018</td>\n",
       "      <td>1.685345</td>\n",
       "      <td>0</td>\n",
       "    </tr>\n",
       "    <tr>\n",
       "      <th>2</th>\n",
       "      <td>-0.517843</td>\n",
       "      <td>-0.497773</td>\n",
       "      <td>-0.480106</td>\n",
       "      <td>-0.800375</td>\n",
       "      <td>0.757149</td>\n",
       "      <td>-0.794651</td>\n",
       "      <td>-0.760324</td>\n",
       "      <td>-1.139536</td>\n",
       "      <td>-0.457890</td>\n",
       "      <td>-0.971987</td>\n",
       "      <td>...</td>\n",
       "      <td>-1.318509</td>\n",
       "      <td>-1.253449</td>\n",
       "      <td>-2.057907</td>\n",
       "      <td>0.611859</td>\n",
       "      <td>-0.899434</td>\n",
       "      <td>-1.069846</td>\n",
       "      <td>-0.678767</td>\n",
       "      <td>-0.886571</td>\n",
       "      <td>0.570689</td>\n",
       "      <td>0</td>\n",
       "    </tr>\n",
       "    <tr>\n",
       "      <th>3</th>\n",
       "      <td>-0.502088</td>\n",
       "      <td>-0.094811</td>\n",
       "      <td>-0.440235</td>\n",
       "      <td>-0.635671</td>\n",
       "      <td>-0.632929</td>\n",
       "      <td>-0.837683</td>\n",
       "      <td>-0.834399</td>\n",
       "      <td>-1.170078</td>\n",
       "      <td>1.240339</td>\n",
       "      <td>-0.971987</td>\n",
       "      <td>...</td>\n",
       "      <td>-0.204733</td>\n",
       "      <td>-0.070949</td>\n",
       "      <td>-1.673995</td>\n",
       "      <td>1.623435</td>\n",
       "      <td>-0.427543</td>\n",
       "      <td>-0.776513</td>\n",
       "      <td>1.763157</td>\n",
       "      <td>-0.467475</td>\n",
       "      <td>0.570689</td>\n",
       "      <td>0</td>\n",
       "    </tr>\n",
       "    <tr>\n",
       "      <th>4</th>\n",
       "      <td>-0.502088</td>\n",
       "      <td>-0.382963</td>\n",
       "      <td>-0.240880</td>\n",
       "      <td>-0.973314</td>\n",
       "      <td>-0.076898</td>\n",
       "      <td>-0.767267</td>\n",
       "      <td>-0.649210</td>\n",
       "      <td>-1.200619</td>\n",
       "      <td>0.735460</td>\n",
       "      <td>-0.971987</td>\n",
       "      <td>...</td>\n",
       "      <td>0.874772</td>\n",
       "      <td>0.961250</td>\n",
       "      <td>-0.731665</td>\n",
       "      <td>0.274667</td>\n",
       "      <td>-0.604856</td>\n",
       "      <td>-0.983571</td>\n",
       "      <td>0.716618</td>\n",
       "      <td>-0.467475</td>\n",
       "      <td>-1.287071</td>\n",
       "      <td>0</td>\n",
       "    </tr>\n",
       "  </tbody>\n",
       "</table>\n",
       "<p>5 rows × 21 columns</p>\n",
       "</div>"
      ],
      "text/plain": [
       "   aluminium   ammonia   arsenic    barium   cadmium  chloramine  chromium  \\\n",
       "0  -0.517843 -1.400497 -0.559848 -0.133324  1.313181   -0.818123 -0.649210   \n",
       "1   2.365361  0.841681 -0.201009 -0.495673 -0.632929   -0.012255 -0.908475   \n",
       "2  -0.517843 -0.497773 -0.480106 -0.800375  0.757149   -0.794651 -0.760324   \n",
       "3  -0.502088 -0.094811 -0.440235 -0.635671 -0.632929   -0.837683 -0.834399   \n",
       "4  -0.502088 -0.382963 -0.240880 -0.973314 -0.076898   -0.767267 -0.649210   \n",
       "\n",
       "     copper  flouride  bacteria  ...      lead  nitrates  nitrites   mercury  \\\n",
       "0  0.387533  0.712511 -0.971987  ...  1.525902 -0.494693 -1.080676  0.611859   \n",
       "1  1.013632  1.079696  1.535372  ... -1.267104 -1.586650  1.885917  1.286243   \n",
       "2 -1.139536 -0.457890 -0.971987  ... -1.318509 -1.253449 -2.057907  0.611859   \n",
       "3 -1.170078  1.240339 -0.971987  ... -0.204733 -0.070949 -1.673995  1.623435   \n",
       "4 -1.200619  0.735460 -0.971987  ...  0.874772  0.961250 -0.731665  0.274667   \n",
       "\n",
       "   perchlorate    radium  selenium    silver   uranium  is_safe  \n",
       "0    -0.690397 -1.156120  1.763157 -0.886571 -1.658623        0  \n",
       "1     1.594850  1.613292  1.763157  0.231018  1.685345        0  \n",
       "2    -0.899434 -1.069846 -0.678767 -0.886571  0.570689        0  \n",
       "3    -0.427543 -0.776513  1.763157 -0.467475  0.570689        0  \n",
       "4    -0.604856 -0.983571  0.716618 -0.467475 -1.287071        0  \n",
       "\n",
       "[5 rows x 21 columns]"
      ]
     },
     "execution_count": 8,
     "metadata": {},
     "output_type": "execute_result"
    }
   ],
   "source": [
    "test_df.head()"
   ]
  },
  {
   "cell_type": "code",
   "execution_count": 9,
   "id": "f4be7b53",
   "metadata": {},
   "outputs": [],
   "source": [
    "X_test = test_df.drop(['is_safe'],axis=1)\n",
    "y_test = test_df[\"is_safe\"]"
   ]
  },
  {
   "cell_type": "markdown",
   "id": "ceb53e25",
   "metadata": {},
   "source": [
    "## Build Models"
   ]
  },
  {
   "cell_type": "code",
   "execution_count": 10,
   "id": "c42b4c01",
   "metadata": {},
   "outputs": [
    {
     "name": "stdout",
     "output_type": "stream",
     "text": [
      "Packages imported...\n"
     ]
    }
   ],
   "source": [
    "# Models\n",
    "# import torch\n",
    "# import torch.nn as nn\n",
    "from sklearn.svm import SVC\n",
    "from sklearn.linear_model import LogisticRegression\n",
    "from sklearn.ensemble import RandomForestClassifier\n",
    "from sklearn.tree import DecisionTreeClassifier\n",
    "from sklearn.ensemble import GradientBoostingClassifier\n",
    "\n",
    "# Metrics\n",
    "from sklearn.metrics import accuracy_score, classification_report, roc_curve\n",
    "\n",
    "# Cross Validation\n",
    "from sklearn.model_selection import cross_val_score\n",
    "from sklearn.model_selection import GridSearchCV\n",
    "\n",
    "print('Packages imported...')"
   ]
  },
  {
   "cell_type": "code",
   "execution_count": 11,
   "id": "8ed8bfdb",
   "metadata": {},
   "outputs": [
    {
     "name": "stdout",
     "output_type": "stream",
     "text": [
      "The test accuracy score of SVM is  0.7988581466842336\n"
     ]
    }
   ],
   "source": [
    "# instantiating the object and fitting\n",
    "clf = SVC(kernel='linear', C=1, random_state=22).fit(X_train,y_train)\n",
    "\n",
    "# predicting the values\n",
    "y_pred_val = clf.predict(X_val)\n",
    "\n",
    "# printing the test accuracy\n",
    "print(\"The validation accuracy score of SVM is \", accuracy_score(y_val, y_pred_val))"
   ]
  },
  {
   "cell_type": "code",
   "execution_count": 12,
   "id": "c2bc33fb",
   "metadata": {},
   "outputs": [
    {
     "name": "stdout",
     "output_type": "stream",
     "text": [
      "The test accuracy score of SVM is  0.798125\n"
     ]
    }
   ],
   "source": [
    "# predicting the values\n",
    "y_test_pred_svm = clf.predict(X_test)\n",
    "\n",
    "# printing the test accuracy\n",
    "\n",
    "print(\"The test accuracy score of SVM is \", accuracy_score(y_test, y_test_pred_svm))"
   ]
  },
  {
   "cell_type": "code",
   "execution_count": 14,
   "id": "af09ab25",
   "metadata": {},
   "outputs": [],
   "source": [
    "\n",
    "# # instantiating the object\n",
    "# svm = SVC()\n",
    "\n",
    "# # setting a grid - not so extensive\n",
    "# parameters = {\"C\":np.arange(1,10,1),'gamma':[0.005,0.01,0.05,0.1]}\n",
    "\n",
    "# # instantiating the GridSearchCV object\n",
    "# searcher = GridSearchCV(svm, parameters)\n",
    "\n",
    "# # fitting the object\n",
    "# searcher.fit(X_train_scaled, y_train)\n",
    "\n",
    "# # the scores\n",
    "# print(\"The best params are :\", searcher.best_params_)\n",
    "# print(\"The best score is   :\", searcher.best_score_)\n"
   ]
  },
  {
   "cell_type": "code",
   "execution_count": 15,
   "id": "de38a5a8",
   "metadata": {},
   "outputs": [],
   "source": [
    "\n",
    "# # predicting the values\n",
    "# y_pred = searcher.predict(X_test_scaled)\n",
    "\n",
    "# # printing the test accuracy\n",
    "# print(\"The test accuracy score of SVM after hyper-parameter tuning is \", accuracy_score(y_test, y_pred))"
   ]
  },
  {
   "cell_type": "markdown",
   "id": "cadf1423",
   "metadata": {},
   "source": [
    "### Train the Logistic Regression model"
   ]
  },
  {
   "cell_type": "code",
   "execution_count": 16,
   "id": "62eaecbc",
   "metadata": {},
   "outputs": [],
   "source": [
    "reg = LogisticRegression()"
   ]
  },
  {
   "cell_type": "code",
   "execution_count": 17,
   "id": "0a2b8b23",
   "metadata": {},
   "outputs": [
    {
     "data": {
      "text/plain": [
       "LogisticRegression()"
      ]
     },
     "execution_count": 17,
     "metadata": {},
     "output_type": "execute_result"
    }
   ],
   "source": [
    "reg.fit(X_train,y_train)"
   ]
  },
  {
   "cell_type": "code",
   "execution_count": 18,
   "id": "fa62fad8",
   "metadata": {},
   "outputs": [
    {
     "data": {
      "text/plain": [
       "0.7962007247172505"
      ]
     },
     "execution_count": 18,
     "metadata": {},
     "output_type": "execute_result"
    }
   ],
   "source": [
    "reg.score(X_train,y_train)"
   ]
  },
  {
   "cell_type": "code",
   "execution_count": null,
   "id": "7898bdc4",
   "metadata": {},
   "outputs": [],
   "source": []
  },
  {
   "cell_type": "markdown",
   "id": "f584b7a5",
   "metadata": {},
   "source": [
    "### Testing the model"
   ]
  },
  {
   "cell_type": "code",
   "execution_count": 19,
   "id": "3b88559e",
   "metadata": {},
   "outputs": [
    {
     "data": {
      "text/plain": [
       "0.7843653930610452"
      ]
     },
     "execution_count": 19,
     "metadata": {},
     "output_type": "execute_result"
    }
   ],
   "source": [
    "#validation testing\n",
    "reg.score(X_val,y_val)"
   ]
  },
  {
   "cell_type": "code",
   "execution_count": 20,
   "id": "850884fb",
   "metadata": {},
   "outputs": [
    {
     "data": {
      "text/plain": [
       "0.79625"
      ]
     },
     "execution_count": 20,
     "metadata": {},
     "output_type": "execute_result"
    }
   ],
   "source": [
    "reg.score(X_test,y_test)"
   ]
  },
  {
   "cell_type": "markdown",
   "id": "5ca73826",
   "metadata": {},
   "source": [
    "### Train the Gradient Boosting Classifier model"
   ]
  },
  {
   "cell_type": "code",
   "execution_count": 21,
   "id": "010e7ea5",
   "metadata": {},
   "outputs": [
    {
     "data": {
      "text/plain": [
       "GradientBoostingClassifier(max_depth=1, max_features=0.2, n_estimators=300,\n",
       "                           random_state=42, subsample=0.8)"
      ]
     },
     "execution_count": 21,
     "metadata": {},
     "output_type": "execute_result"
    }
   ],
   "source": [
    "# instantiate the classifier\n",
    "gbt = GradientBoostingClassifier(n_estimators = 300,max_depth=1,subsample=0.8,max_features=0.2,random_state=42)\n",
    "\n",
    "# fitting the model\n",
    "gbt.fit(X_train,y_train)\n"
   ]
  },
  {
   "cell_type": "code",
   "execution_count": 22,
   "id": "dd71ee5e",
   "metadata": {},
   "outputs": [
    {
     "name": "stdout",
     "output_type": "stream",
     "text": [
      "The test accuracy score of Gradient Boosting Classifier is  0.886253842775582\n"
     ]
    }
   ],
   "source": [
    "# predicting values with validation set\n",
    "y_pred_gbt = gbt.predict(X_val)\n",
    "print(\"The test accuracy score of Gradient Boosting Classifier is \", accuracy_score(y_val, y_pred_gbt))"
   ]
  },
  {
   "cell_type": "code",
   "execution_count": 23,
   "id": "94bda05a",
   "metadata": {},
   "outputs": [
    {
     "name": "stdout",
     "output_type": "stream",
     "text": [
      "The test accuracy score of Gradient Boosting Classifier is  0.885\n"
     ]
    }
   ],
   "source": [
    "# predicting values with test set\n",
    "y_test_pred = gbt.predict(X_test)\n",
    "print(\"The test accuracy score of Gradient Boosting Classifier is \", accuracy_score(y_test, y_test_pred))"
   ]
  },
  {
   "cell_type": "code",
   "execution_count": null,
   "id": "45b8e73f",
   "metadata": {},
   "outputs": [],
   "source": []
  }
 ],
 "metadata": {
  "kernelspec": {
   "display_name": "Python 3 (ipykernel)",
   "language": "python",
   "name": "python3"
  },
  "language_info": {
   "codemirror_mode": {
    "name": "ipython",
    "version": 3
   },
   "file_extension": ".py",
   "mimetype": "text/x-python",
   "name": "python",
   "nbconvert_exporter": "python",
   "pygments_lexer": "ipython3",
   "version": "3.9.7"
  }
 },
 "nbformat": 4,
 "nbformat_minor": 5
}
