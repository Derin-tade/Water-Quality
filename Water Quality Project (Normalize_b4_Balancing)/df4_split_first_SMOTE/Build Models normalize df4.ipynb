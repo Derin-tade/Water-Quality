{
 "cells": [
  {
   "cell_type": "code",
   "execution_count": 1,
   "id": "6510ef4a",
   "metadata": {},
   "outputs": [],
   "source": [
    "# For this practical example we will need the following libraries and modules\n",
    "import numpy as np\n",
    "import pandas as pd"
   ]
  },
  {
   "cell_type": "markdown",
   "id": "1c604cfa",
   "metadata": {},
   "source": [
    "### Import df\n",
    "Near Miss Undersampled unpreprocessed data."
   ]
  },
  {
   "cell_type": "code",
   "execution_count": 2,
   "id": "87648ed7",
   "metadata": {},
   "outputs": [],
   "source": [
    "df4 = pd.read_csv(\"df4.csv\")"
   ]
  },
  {
   "cell_type": "code",
   "execution_count": 3,
   "id": "282d070a",
   "metadata": {},
   "outputs": [
    {
     "data": {
      "text/html": [
       "<div>\n",
       "<style scoped>\n",
       "    .dataframe tbody tr th:only-of-type {\n",
       "        vertical-align: middle;\n",
       "    }\n",
       "\n",
       "    .dataframe tbody tr th {\n",
       "        vertical-align: top;\n",
       "    }\n",
       "\n",
       "    .dataframe thead th {\n",
       "        text-align: right;\n",
       "    }\n",
       "</style>\n",
       "<table border=\"1\" class=\"dataframe\">\n",
       "  <thead>\n",
       "    <tr style=\"text-align: right;\">\n",
       "      <th></th>\n",
       "      <th>aluminium</th>\n",
       "      <th>ammonia</th>\n",
       "      <th>arsenic</th>\n",
       "      <th>barium</th>\n",
       "      <th>cadmium</th>\n",
       "      <th>chloramine</th>\n",
       "      <th>chromium</th>\n",
       "      <th>copper</th>\n",
       "      <th>flouride</th>\n",
       "      <th>bacteria</th>\n",
       "      <th>...</th>\n",
       "      <th>lead</th>\n",
       "      <th>nitrates</th>\n",
       "      <th>nitrites</th>\n",
       "      <th>mercury</th>\n",
       "      <th>perchlorate</th>\n",
       "      <th>radium</th>\n",
       "      <th>selenium</th>\n",
       "      <th>silver</th>\n",
       "      <th>uranium</th>\n",
       "      <th>is_safe</th>\n",
       "    </tr>\n",
       "  </thead>\n",
       "  <tbody>\n",
       "    <tr>\n",
       "      <th>0</th>\n",
       "      <td>-0.463465</td>\n",
       "      <td>-1.601443</td>\n",
       "      <td>-0.599632</td>\n",
       "      <td>-0.146304</td>\n",
       "      <td>1.031890</td>\n",
       "      <td>-0.723628</td>\n",
       "      <td>-0.913738</td>\n",
       "      <td>0.526444</td>\n",
       "      <td>-0.555002</td>\n",
       "      <td>1.032811</td>\n",
       "      <td>...</td>\n",
       "      <td>-0.196525</td>\n",
       "      <td>-0.203776</td>\n",
       "      <td>0.924846</td>\n",
       "      <td>-1.413097</td>\n",
       "      <td>-0.928625</td>\n",
       "      <td>0.223835</td>\n",
       "      <td>-1.726831</td>\n",
       "      <td>-0.611672</td>\n",
       "      <td>-0.917040</td>\n",
       "      <td>0</td>\n",
       "    </tr>\n",
       "    <tr>\n",
       "      <th>1</th>\n",
       "      <td>-0.479272</td>\n",
       "      <td>1.670552</td>\n",
       "      <td>-0.282946</td>\n",
       "      <td>-0.006519</td>\n",
       "      <td>1.031890</td>\n",
       "      <td>-0.809330</td>\n",
       "      <td>-0.618149</td>\n",
       "      <td>0.587648</td>\n",
       "      <td>-0.899516</td>\n",
       "      <td>1.579133</td>\n",
       "      <td>...</td>\n",
       "      <td>-0.609145</td>\n",
       "      <td>-0.467236</td>\n",
       "      <td>-0.575412</td>\n",
       "      <td>-0.064914</td>\n",
       "      <td>-0.770323</td>\n",
       "      <td>-0.223927</td>\n",
       "      <td>0.706129</td>\n",
       "      <td>-0.750986</td>\n",
       "      <td>0.569710</td>\n",
       "      <td>0</td>\n",
       "    </tr>\n",
       "    <tr>\n",
       "      <th>2</th>\n",
       "      <td>-0.447657</td>\n",
       "      <td>1.083733</td>\n",
       "      <td>-0.560046</td>\n",
       "      <td>0.988423</td>\n",
       "      <td>-1.104207</td>\n",
       "      <td>-0.431464</td>\n",
       "      <td>1.081485</td>\n",
       "      <td>0.832463</td>\n",
       "      <td>0.593377</td>\n",
       "      <td>-0.848965</td>\n",
       "      <td>...</td>\n",
       "      <td>-0.557568</td>\n",
       "      <td>0.739990</td>\n",
       "      <td>-0.034621</td>\n",
       "      <td>-1.750143</td>\n",
       "      <td>-0.239447</td>\n",
       "      <td>-0.215316</td>\n",
       "      <td>0.010997</td>\n",
       "      <td>0.572505</td>\n",
       "      <td>-1.660415</td>\n",
       "      <td>0</td>\n",
       "    </tr>\n",
       "    <tr>\n",
       "      <th>3</th>\n",
       "      <td>2.998318</td>\n",
       "      <td>1.554540</td>\n",
       "      <td>-0.560046</td>\n",
       "      <td>1.942252</td>\n",
       "      <td>-1.076465</td>\n",
       "      <td>1.138432</td>\n",
       "      <td>0.490308</td>\n",
       "      <td>-0.437516</td>\n",
       "      <td>-1.266997</td>\n",
       "      <td>1.123865</td>\n",
       "      <td>...</td>\n",
       "      <td>-0.609145</td>\n",
       "      <td>0.499988</td>\n",
       "      <td>0.070048</td>\n",
       "      <td>-0.401960</td>\n",
       "      <td>1.757984</td>\n",
       "      <td>1.597261</td>\n",
       "      <td>-0.684134</td>\n",
       "      <td>-0.054412</td>\n",
       "      <td>0.941398</td>\n",
       "      <td>0</td>\n",
       "    </tr>\n",
       "    <tr>\n",
       "      <th>4</th>\n",
       "      <td>2.958800</td>\n",
       "      <td>1.359684</td>\n",
       "      <td>3.121421</td>\n",
       "      <td>2.114928</td>\n",
       "      <td>-0.632601</td>\n",
       "      <td>2.272029</td>\n",
       "      <td>1.118433</td>\n",
       "      <td>1.245589</td>\n",
       "      <td>1.626919</td>\n",
       "      <td>2.034401</td>\n",
       "      <td>...</td>\n",
       "      <td>1.075721</td>\n",
       "      <td>-1.445288</td>\n",
       "      <td>0.139827</td>\n",
       "      <td>-0.739005</td>\n",
       "      <td>0.375104</td>\n",
       "      <td>2.131132</td>\n",
       "      <td>-1.031700</td>\n",
       "      <td>1.129764</td>\n",
       "      <td>-0.173665</td>\n",
       "      <td>0</td>\n",
       "    </tr>\n",
       "  </tbody>\n",
       "</table>\n",
       "<p>5 rows × 21 columns</p>\n",
       "</div>"
      ],
      "text/plain": [
       "   aluminium   ammonia   arsenic    barium   cadmium  chloramine  chromium  \\\n",
       "0  -0.463465 -1.601443 -0.599632 -0.146304  1.031890   -0.723628 -0.913738   \n",
       "1  -0.479272  1.670552 -0.282946 -0.006519  1.031890   -0.809330 -0.618149   \n",
       "2  -0.447657  1.083733 -0.560046  0.988423 -1.104207   -0.431464  1.081485   \n",
       "3   2.998318  1.554540 -0.560046  1.942252 -1.076465    1.138432  0.490308   \n",
       "4   2.958800  1.359684  3.121421  2.114928 -0.632601    2.272029  1.118433   \n",
       "\n",
       "     copper  flouride  bacteria  ...      lead  nitrates  nitrites   mercury  \\\n",
       "0  0.526444 -0.555002  1.032811  ... -0.196525 -0.203776  0.924846 -1.413097   \n",
       "1  0.587648 -0.899516  1.579133  ... -0.609145 -0.467236 -0.575412 -0.064914   \n",
       "2  0.832463  0.593377 -0.848965  ... -0.557568  0.739990 -0.034621 -1.750143   \n",
       "3 -0.437516 -1.266997  1.123865  ... -0.609145  0.499988  0.070048 -0.401960   \n",
       "4  1.245589  1.626919  2.034401  ...  1.075721 -1.445288  0.139827 -0.739005   \n",
       "\n",
       "   perchlorate    radium  selenium    silver   uranium  is_safe  \n",
       "0    -0.928625  0.223835 -1.726831 -0.611672 -0.917040        0  \n",
       "1    -0.770323 -0.223927  0.706129 -0.750986  0.569710        0  \n",
       "2    -0.239447 -0.215316  0.010997  0.572505 -1.660415        0  \n",
       "3     1.757984  1.597261 -0.684134 -0.054412  0.941398        0  \n",
       "4     0.375104  2.131132 -1.031700  1.129764 -0.173665        0  \n",
       "\n",
       "[5 rows x 21 columns]"
      ]
     },
     "execution_count": 3,
     "metadata": {},
     "output_type": "execute_result"
    }
   ],
   "source": [
    "df4.head()"
   ]
  },
  {
   "cell_type": "markdown",
   "id": "4c5269af",
   "metadata": {},
   "source": [
    "#### Split into featues and labels and check shape"
   ]
  },
  {
   "cell_type": "code",
   "execution_count": 4,
   "id": "a6d713c7",
   "metadata": {},
   "outputs": [],
   "source": [
    "X = df4.drop(['is_safe'],axis=1)\n",
    "y = df4[\"is_safe\"]"
   ]
  },
  {
   "cell_type": "markdown",
   "id": "396915d1",
   "metadata": {},
   "source": [
    "#### Preprocess data. "
   ]
  },
  {
   "cell_type": "code",
   "execution_count": 5,
   "id": "71aea626",
   "metadata": {},
   "outputs": [],
   "source": [
    "# Import the scaling module\n",
    "from sklearn.preprocessing import StandardScaler\n",
    "\n",
    "# Create a scaler object\n",
    "scaler = StandardScaler()"
   ]
  },
  {
   "cell_type": "code",
   "execution_count": 6,
   "id": "014dffd7",
   "metadata": {},
   "outputs": [],
   "source": [
    "# fit and transform on the input data at a single time and converts the data points. \n",
    "# Scale the features and store them in a new variable (the actual scaling procedure)\n",
    "X_scaled = pd.DataFrame(scaler.fit_transform(X),columns=X.columns,index=X.index)"
   ]
  },
  {
   "cell_type": "code",
   "execution_count": 7,
   "id": "f85b24d5",
   "metadata": {},
   "outputs": [
    {
     "name": "stdout",
     "output_type": "stream",
     "text": [
      "Shape of X_scaled a shape of (11384, 20)\n",
      "\n",
      "Shape of 'y' targets a shape of (11384,)\n"
     ]
    }
   ],
   "source": [
    "print(f\"Shape of X_scaled a shape of {X_scaled.shape}\\n\")\n",
    "print(f\"Shape of 'y' targets a shape of {y.shape}\")"
   ]
  },
  {
   "cell_type": "code",
   "execution_count": 8,
   "id": "298ec540",
   "metadata": {},
   "outputs": [
    {
     "data": {
      "text/plain": [
       "0    5692\n",
       "1    5692\n",
       "Name: is_safe, dtype: int64"
      ]
     },
     "execution_count": 8,
     "metadata": {},
     "output_type": "execute_result"
    }
   ],
   "source": [
    "df4[\"is_safe\"].value_counts()"
   ]
  },
  {
   "cell_type": "markdown",
   "id": "f5319e37",
   "metadata": {},
   "source": [
    "#### Split into train and test sets."
   ]
  },
  {
   "cell_type": "code",
   "execution_count": 9,
   "id": "6e0a7067",
   "metadata": {},
   "outputs": [],
   "source": [
    "from sklearn.model_selection import train_test_split"
   ]
  },
  {
   "cell_type": "code",
   "execution_count": 10,
   "id": "80174a80",
   "metadata": {},
   "outputs": [],
   "source": [
    "X_train,X_val,y_train,y_val = train_test_split(X,y,random_state=22,train_size=.8)"
   ]
  },
  {
   "cell_type": "markdown",
   "id": "47e66ee6",
   "metadata": {},
   "source": [
    "#### Bring in the test dataset"
   ]
  },
  {
   "cell_type": "code",
   "execution_count": 11,
   "id": "2928df1f",
   "metadata": {},
   "outputs": [],
   "source": [
    "test_df = pd.read_csv(\"test_df.csv\")"
   ]
  },
  {
   "cell_type": "code",
   "execution_count": 12,
   "id": "c4aba9ae",
   "metadata": {},
   "outputs": [
    {
     "data": {
      "text/html": [
       "<div>\n",
       "<style scoped>\n",
       "    .dataframe tbody tr th:only-of-type {\n",
       "        vertical-align: middle;\n",
       "    }\n",
       "\n",
       "    .dataframe tbody tr th {\n",
       "        vertical-align: top;\n",
       "    }\n",
       "\n",
       "    .dataframe thead th {\n",
       "        text-align: right;\n",
       "    }\n",
       "</style>\n",
       "<table border=\"1\" class=\"dataframe\">\n",
       "  <thead>\n",
       "    <tr style=\"text-align: right;\">\n",
       "      <th></th>\n",
       "      <th>aluminium</th>\n",
       "      <th>ammonia</th>\n",
       "      <th>arsenic</th>\n",
       "      <th>barium</th>\n",
       "      <th>cadmium</th>\n",
       "      <th>chloramine</th>\n",
       "      <th>chromium</th>\n",
       "      <th>copper</th>\n",
       "      <th>flouride</th>\n",
       "      <th>bacteria</th>\n",
       "      <th>...</th>\n",
       "      <th>lead</th>\n",
       "      <th>nitrates</th>\n",
       "      <th>nitrites</th>\n",
       "      <th>mercury</th>\n",
       "      <th>perchlorate</th>\n",
       "      <th>radium</th>\n",
       "      <th>selenium</th>\n",
       "      <th>silver</th>\n",
       "      <th>uranium</th>\n",
       "      <th>is_safe</th>\n",
       "    </tr>\n",
       "  </thead>\n",
       "  <tbody>\n",
       "    <tr>\n",
       "      <th>0</th>\n",
       "      <td>-0.518790</td>\n",
       "      <td>-1.394198</td>\n",
       "      <td>-0.560046</td>\n",
       "      <td>-0.138081</td>\n",
       "      <td>1.309305</td>\n",
       "      <td>-0.824912</td>\n",
       "      <td>-0.655098</td>\n",
       "      <td>0.388735</td>\n",
       "      <td>0.708215</td>\n",
       "      <td>-0.970370</td>\n",
       "      <td>...</td>\n",
       "      <td>1.539919</td>\n",
       "      <td>-0.481672</td>\n",
       "      <td>-1.081313</td>\n",
       "      <td>0.609178</td>\n",
       "      <td>-0.697957</td>\n",
       "      <td>-1.158201</td>\n",
       "      <td>1.748826</td>\n",
       "      <td>-0.890301</td>\n",
       "      <td>-1.660415</td>\n",
       "      <td>0</td>\n",
       "    </tr>\n",
       "    <tr>\n",
       "      <th>1</th>\n",
       "      <td>2.373933</td>\n",
       "      <td>0.849456</td>\n",
       "      <td>-0.203775</td>\n",
       "      <td>-0.499878</td>\n",
       "      <td>-0.632601</td>\n",
       "      <td>-0.022434</td>\n",
       "      <td>-0.913738</td>\n",
       "      <td>1.016075</td>\n",
       "      <td>1.075697</td>\n",
       "      <td>1.548782</td>\n",
       "      <td>...</td>\n",
       "      <td>-1.262460</td>\n",
       "      <td>-1.569800</td>\n",
       "      <td>1.884312</td>\n",
       "      <td>1.283269</td>\n",
       "      <td>1.582721</td>\n",
       "      <td>1.605872</td>\n",
       "      <td>1.748826</td>\n",
       "      <td>0.224217</td>\n",
       "      <td>1.684773</td>\n",
       "      <td>0</td>\n",
       "    </tr>\n",
       "    <tr>\n",
       "      <th>2</th>\n",
       "      <td>-0.518790</td>\n",
       "      <td>-0.490879</td>\n",
       "      <td>-0.480875</td>\n",
       "      <td>-0.804117</td>\n",
       "      <td>0.754475</td>\n",
       "      <td>-0.801539</td>\n",
       "      <td>-0.765943</td>\n",
       "      <td>-1.141360</td>\n",
       "      <td>-0.463132</td>\n",
       "      <td>-0.970370</td>\n",
       "      <td>...</td>\n",
       "      <td>-1.314038</td>\n",
       "      <td>-1.237768</td>\n",
       "      <td>-2.058224</td>\n",
       "      <td>0.609178</td>\n",
       "      <td>-0.906576</td>\n",
       "      <td>-1.072093</td>\n",
       "      <td>-0.684134</td>\n",
       "      <td>-0.890301</td>\n",
       "      <td>0.569710</td>\n",
       "      <td>0</td>\n",
       "    </tr>\n",
       "    <tr>\n",
       "      <th>3</th>\n",
       "      <td>-0.502983</td>\n",
       "      <td>-0.087652</td>\n",
       "      <td>-0.441289</td>\n",
       "      <td>-0.639664</td>\n",
       "      <td>-0.632601</td>\n",
       "      <td>-0.844389</td>\n",
       "      <td>-0.839840</td>\n",
       "      <td>-1.171962</td>\n",
       "      <td>1.236470</td>\n",
       "      <td>-0.970370</td>\n",
       "      <td>...</td>\n",
       "      <td>-0.196525</td>\n",
       "      <td>-0.059414</td>\n",
       "      <td>-1.674438</td>\n",
       "      <td>1.620315</td>\n",
       "      <td>-0.435628</td>\n",
       "      <td>-0.779325</td>\n",
       "      <td>1.748826</td>\n",
       "      <td>-0.472357</td>\n",
       "      <td>0.569710</td>\n",
       "      <td>0</td>\n",
       "    </tr>\n",
       "    <tr>\n",
       "      <th>4</th>\n",
       "      <td>-0.502983</td>\n",
       "      <td>-0.375994</td>\n",
       "      <td>-0.243361</td>\n",
       "      <td>-0.976793</td>\n",
       "      <td>-0.077771</td>\n",
       "      <td>-0.774270</td>\n",
       "      <td>-0.655098</td>\n",
       "      <td>-1.202564</td>\n",
       "      <td>0.731183</td>\n",
       "      <td>-0.970370</td>\n",
       "      <td>...</td>\n",
       "      <td>0.886603</td>\n",
       "      <td>0.969164</td>\n",
       "      <td>-0.732415</td>\n",
       "      <td>0.272132</td>\n",
       "      <td>-0.612587</td>\n",
       "      <td>-0.985984</td>\n",
       "      <td>0.706129</td>\n",
       "      <td>-0.472357</td>\n",
       "      <td>-1.288728</td>\n",
       "      <td>0</td>\n",
       "    </tr>\n",
       "  </tbody>\n",
       "</table>\n",
       "<p>5 rows × 21 columns</p>\n",
       "</div>"
      ],
      "text/plain": [
       "   aluminium   ammonia   arsenic    barium   cadmium  chloramine  chromium  \\\n",
       "0  -0.518790 -1.394198 -0.560046 -0.138081  1.309305   -0.824912 -0.655098   \n",
       "1   2.373933  0.849456 -0.203775 -0.499878 -0.632601   -0.022434 -0.913738   \n",
       "2  -0.518790 -0.490879 -0.480875 -0.804117  0.754475   -0.801539 -0.765943   \n",
       "3  -0.502983 -0.087652 -0.441289 -0.639664 -0.632601   -0.844389 -0.839840   \n",
       "4  -0.502983 -0.375994 -0.243361 -0.976793 -0.077771   -0.774270 -0.655098   \n",
       "\n",
       "     copper  flouride  bacteria  ...      lead  nitrates  nitrites   mercury  \\\n",
       "0  0.388735  0.708215 -0.970370  ...  1.539919 -0.481672 -1.081313  0.609178   \n",
       "1  1.016075  1.075697  1.548782  ... -1.262460 -1.569800  1.884312  1.283269   \n",
       "2 -1.141360 -0.463132 -0.970370  ... -1.314038 -1.237768 -2.058224  0.609178   \n",
       "3 -1.171962  1.236470 -0.970370  ... -0.196525 -0.059414 -1.674438  1.620315   \n",
       "4 -1.202564  0.731183 -0.970370  ...  0.886603  0.969164 -0.732415  0.272132   \n",
       "\n",
       "   perchlorate    radium  selenium    silver   uranium  is_safe  \n",
       "0    -0.697957 -1.158201  1.748826 -0.890301 -1.660415        0  \n",
       "1     1.582721  1.605872  1.748826  0.224217  1.684773        0  \n",
       "2    -0.906576 -1.072093 -0.684134 -0.890301  0.569710        0  \n",
       "3    -0.435628 -0.779325  1.748826 -0.472357  0.569710        0  \n",
       "4    -0.612587 -0.985984  0.706129 -0.472357 -1.288728        0  \n",
       "\n",
       "[5 rows x 21 columns]"
      ]
     },
     "execution_count": 12,
     "metadata": {},
     "output_type": "execute_result"
    }
   ],
   "source": [
    "test_df.head()"
   ]
  },
  {
   "cell_type": "code",
   "execution_count": 13,
   "id": "f4be7b53",
   "metadata": {},
   "outputs": [],
   "source": [
    "X_test = test_df.drop(['is_safe'],axis=1)\n",
    "y_test = test_df[\"is_safe\"]"
   ]
  },
  {
   "cell_type": "markdown",
   "id": "ceb53e25",
   "metadata": {},
   "source": [
    "## Build Models"
   ]
  },
  {
   "cell_type": "code",
   "execution_count": 14,
   "id": "c42b4c01",
   "metadata": {},
   "outputs": [
    {
     "name": "stdout",
     "output_type": "stream",
     "text": [
      "Packages imported...\n"
     ]
    }
   ],
   "source": [
    "# Models\n",
    "# import torch\n",
    "# import torch.nn as nn\n",
    "from sklearn.svm import SVC\n",
    "from sklearn.linear_model import LogisticRegression\n",
    "from sklearn.ensemble import RandomForestClassifier\n",
    "from sklearn.tree import DecisionTreeClassifier\n",
    "from sklearn.ensemble import GradientBoostingClassifier\n",
    "\n",
    "# Metrics\n",
    "from sklearn.metrics import accuracy_score, classification_report, roc_curve\n",
    "\n",
    "# Cross Validation\n",
    "from sklearn.model_selection import cross_val_score\n",
    "from sklearn.model_selection import GridSearchCV\n",
    "\n",
    "print('Packages imported...')"
   ]
  },
  {
   "cell_type": "code",
   "execution_count": 15,
   "id": "8ed8bfdb",
   "metadata": {},
   "outputs": [
    {
     "name": "stdout",
     "output_type": "stream",
     "text": [
      "The test accuracy score of SVM is  0.7992973210364515\n"
     ]
    }
   ],
   "source": [
    "# instantiating the object and fitting\n",
    "clf = SVC(kernel='linear', C=1, random_state=22).fit(X_train,y_train)\n",
    "\n",
    "# predicting the values\n",
    "y_pred_val = clf.predict(X_val)\n",
    "\n",
    "# printing the test accuracy\n",
    "print(\"The test accuracy score of SVM is \", accuracy_score(y_val, y_pred_val))"
   ]
  },
  {
   "cell_type": "code",
   "execution_count": 16,
   "id": "c2bc33fb",
   "metadata": {},
   "outputs": [
    {
     "name": "stdout",
     "output_type": "stream",
     "text": [
      "The test accuracy score of SVM is  0.79625\n"
     ]
    }
   ],
   "source": [
    "# predicting the values\n",
    "y_test_pred_svm = clf.predict(X_test)\n",
    "\n",
    "# printing the test accuracy\n",
    "\n",
    "print(\"The test accuracy score of SVM is \", accuracy_score(y_test, y_test_pred_svm))"
   ]
  },
  {
   "cell_type": "code",
   "execution_count": 17,
   "id": "af09ab25",
   "metadata": {},
   "outputs": [],
   "source": [
    "\n",
    "# # instantiating the object\n",
    "# svm = SVC()\n",
    "\n",
    "# # setting a grid - not so extensive\n",
    "# parameters = {\"C\":np.arange(1,10,1),'gamma':[0.005,0.01,0.05,0.1]}\n",
    "\n",
    "# # instantiating the GridSearchCV object\n",
    "# searcher = GridSearchCV(svm, parameters)\n",
    "\n",
    "# # fitting the object\n",
    "# searcher.fit(X_train_scaled, y_train)\n",
    "\n",
    "# # the scores\n",
    "# print(\"The best params are :\", searcher.best_params_)\n",
    "# print(\"The best score is   :\", searcher.best_score_)\n"
   ]
  },
  {
   "cell_type": "code",
   "execution_count": 18,
   "id": "de38a5a8",
   "metadata": {},
   "outputs": [],
   "source": [
    "\n",
    "# # predicting the values\n",
    "# y_pred = searcher.predict(X_test_scaled)\n",
    "\n",
    "# # printing the test accuracy\n",
    "# print(\"The test accuracy score of SVM after hyper-parameter tuning is \", accuracy_score(y_test, y_pred))"
   ]
  },
  {
   "cell_type": "markdown",
   "id": "cadf1423",
   "metadata": {},
   "source": [
    "### Train the Logistic Regression model"
   ]
  },
  {
   "cell_type": "code",
   "execution_count": 19,
   "id": "62eaecbc",
   "metadata": {},
   "outputs": [],
   "source": [
    "reg = LogisticRegression()"
   ]
  },
  {
   "cell_type": "code",
   "execution_count": 20,
   "id": "0a2b8b23",
   "metadata": {},
   "outputs": [
    {
     "data": {
      "text/plain": [
       "LogisticRegression()"
      ]
     },
     "execution_count": 20,
     "metadata": {},
     "output_type": "execute_result"
    }
   ],
   "source": [
    "reg.fit(X_train,y_train)"
   ]
  },
  {
   "cell_type": "code",
   "execution_count": 21,
   "id": "fa62fad8",
   "metadata": {},
   "outputs": [
    {
     "data": {
      "text/plain": [
       "0.7965301416492808"
      ]
     },
     "execution_count": 21,
     "metadata": {},
     "output_type": "execute_result"
    }
   ],
   "source": [
    "reg.score(X_train,y_train)"
   ]
  },
  {
   "cell_type": "code",
   "execution_count": null,
   "id": "7898bdc4",
   "metadata": {},
   "outputs": [],
   "source": []
  },
  {
   "cell_type": "markdown",
   "id": "f584b7a5",
   "metadata": {},
   "source": [
    "### Testing the model"
   ]
  },
  {
   "cell_type": "code",
   "execution_count": 22,
   "id": "3b88559e",
   "metadata": {},
   "outputs": [
    {
     "data": {
      "text/plain": [
       "0.7834870443566095"
      ]
     },
     "execution_count": 22,
     "metadata": {},
     "output_type": "execute_result"
    }
   ],
   "source": [
    "#validation testing\n",
    "reg.score(X_val,y_val)"
   ]
  },
  {
   "cell_type": "code",
   "execution_count": 23,
   "id": "850884fb",
   "metadata": {},
   "outputs": [
    {
     "data": {
      "text/plain": [
       "0.798125"
      ]
     },
     "execution_count": 23,
     "metadata": {},
     "output_type": "execute_result"
    }
   ],
   "source": [
    "reg.score(X_test,y_test)"
   ]
  },
  {
   "cell_type": "markdown",
   "id": "5ca73826",
   "metadata": {},
   "source": [
    "### Train the Gradient Boosting Classifier model"
   ]
  },
  {
   "cell_type": "code",
   "execution_count": 24,
   "id": "010e7ea5",
   "metadata": {},
   "outputs": [
    {
     "data": {
      "text/plain": [
       "GradientBoostingClassifier(max_depth=1, max_features=0.2, n_estimators=300,\n",
       "                           random_state=42, subsample=0.8)"
      ]
     },
     "execution_count": 24,
     "metadata": {},
     "output_type": "execute_result"
    }
   ],
   "source": [
    "# instantiate the classifier\n",
    "gbt = GradientBoostingClassifier(n_estimators = 300,max_depth=1,subsample=0.8,max_features=0.2,random_state=42)\n",
    "\n",
    "# fitting the model\n",
    "gbt.fit(X_train,y_train)\n"
   ]
  },
  {
   "cell_type": "code",
   "execution_count": 25,
   "id": "dd71ee5e",
   "metadata": {},
   "outputs": [
    {
     "name": "stdout",
     "output_type": "stream",
     "text": [
      "The test accuracy score of Gradient Boosting Classifier is  0.8884497145366711\n"
     ]
    }
   ],
   "source": [
    "# predicting values with validation set\n",
    "y_pred_gbt = gbt.predict(X_val)\n",
    "print(\"The test accuracy score of Gradient Boosting Classifier is \", accuracy_score(y_val, y_pred_gbt))"
   ]
  },
  {
   "cell_type": "code",
   "execution_count": 26,
   "id": "94bda05a",
   "metadata": {},
   "outputs": [
    {
     "name": "stdout",
     "output_type": "stream",
     "text": [
      "The test accuracy score of Gradient Boosting Classifier is  0.888125\n"
     ]
    }
   ],
   "source": [
    "# predicting values with test set\n",
    "y_test_pred = gbt.predict(X_test)\n",
    "print(\"The test accuracy score of Gradient Boosting Classifier is \", accuracy_score(y_test, y_test_pred))"
   ]
  },
  {
   "cell_type": "code",
   "execution_count": null,
   "id": "03d5c5e9",
   "metadata": {},
   "outputs": [],
   "source": [
    "# from sklearn.model_selection import train_test_split"
   ]
  },
  {
   "cell_type": "code",
   "execution_count": null,
   "id": "53da2ca2",
   "metadata": {},
   "outputs": [],
   "source": [
    "# X_train,X_test,y_train,y_test = train_test_split(X_scaled,y,random_state=22,train_size=.8)"
   ]
  },
  {
   "cell_type": "code",
   "execution_count": 4,
   "id": "45b8e73f",
   "metadata": {},
   "outputs": [
    {
     "data": {
      "text/plain": [
       "5"
      ]
     },
     "execution_count": 4,
     "metadata": {},
     "output_type": "execute_result"
    }
   ],
   "source": [
    "def funcc():\n",
    "    x = 5\n",
    "    return (x)\n",
    "\n",
    "funcc()"
   ]
  },
  {
   "cell_type": "code",
   "execution_count": null,
   "id": "8048e230",
   "metadata": {},
   "outputs": [],
   "source": []
  }
 ],
 "metadata": {
  "kernelspec": {
   "display_name": "Python 3 (ipykernel)",
   "language": "python",
   "name": "python3"
  },
  "language_info": {
   "codemirror_mode": {
    "name": "ipython",
    "version": 3
   },
   "file_extension": ".py",
   "mimetype": "text/x-python",
   "name": "python",
   "nbconvert_exporter": "python",
   "pygments_lexer": "ipython3",
   "version": "3.9.7"
  }
 },
 "nbformat": 4,
 "nbformat_minor": 5
}
