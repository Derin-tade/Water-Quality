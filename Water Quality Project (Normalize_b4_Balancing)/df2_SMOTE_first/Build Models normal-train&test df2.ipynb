{
 "cells": [
  {
   "cell_type": "code",
   "execution_count": 1,
   "id": "db230185",
   "metadata": {},
   "outputs": [],
   "source": [
    "# For this practical example we will need the following libraries and modules\n",
    "import numpy as np\n",
    "import pandas as pd"
   ]
  },
  {
   "cell_type": "markdown",
   "id": "1c604cfa",
   "metadata": {},
   "source": [
    "### Import df\n",
    "SMOTE Oversampled unpreprocessed data."
   ]
  },
  {
   "cell_type": "code",
   "execution_count": 2,
   "id": "e717bd01",
   "metadata": {},
   "outputs": [],
   "source": [
    "df2 = pd.read_csv(\"df2.csv\")"
   ]
  },
  {
   "cell_type": "code",
   "execution_count": 3,
   "id": "56b6555e",
   "metadata": {},
   "outputs": [
    {
     "data": {
      "text/html": [
       "<div>\n",
       "<style scoped>\n",
       "    .dataframe tbody tr th:only-of-type {\n",
       "        vertical-align: middle;\n",
       "    }\n",
       "\n",
       "    .dataframe tbody tr th {\n",
       "        vertical-align: top;\n",
       "    }\n",
       "\n",
       "    .dataframe thead th {\n",
       "        text-align: right;\n",
       "    }\n",
       "</style>\n",
       "<table border=\"1\" class=\"dataframe\">\n",
       "  <thead>\n",
       "    <tr style=\"text-align: right;\">\n",
       "      <th></th>\n",
       "      <th>aluminium</th>\n",
       "      <th>ammonia</th>\n",
       "      <th>arsenic</th>\n",
       "      <th>barium</th>\n",
       "      <th>cadmium</th>\n",
       "      <th>chloramine</th>\n",
       "      <th>chromium</th>\n",
       "      <th>copper</th>\n",
       "      <th>flouride</th>\n",
       "      <th>bacteria</th>\n",
       "      <th>...</th>\n",
       "      <th>lead</th>\n",
       "      <th>nitrates</th>\n",
       "      <th>nitrites</th>\n",
       "      <th>mercury</th>\n",
       "      <th>perchlorate</th>\n",
       "      <th>radium</th>\n",
       "      <th>selenium</th>\n",
       "      <th>silver</th>\n",
       "      <th>uranium</th>\n",
       "      <th>is_safe</th>\n",
       "    </tr>\n",
       "  </thead>\n",
       "  <tbody>\n",
       "    <tr>\n",
       "      <th>0</th>\n",
       "      <td>0.777403</td>\n",
       "      <td>-0.585491</td>\n",
       "      <td>-0.480875</td>\n",
       "      <td>1.054205</td>\n",
       "      <td>-0.993241</td>\n",
       "      <td>-0.711941</td>\n",
       "      <td>2.152993</td>\n",
       "      <td>-0.973050</td>\n",
       "      <td>-1.657446</td>\n",
       "      <td>-0.363345</td>\n",
       "      <td>...</td>\n",
       "      <td>-0.781070</td>\n",
       "      <td>1.129767</td>\n",
       "      <td>-0.348629</td>\n",
       "      <td>0.609178</td>\n",
       "      <td>1.203362</td>\n",
       "      <td>1.661842</td>\n",
       "      <td>1.053694</td>\n",
       "      <td>1.338736</td>\n",
       "      <td>-0.917040</td>\n",
       "      <td>1</td>\n",
       "    </tr>\n",
       "    <tr>\n",
       "      <th>1</th>\n",
       "      <td>1.306945</td>\n",
       "      <td>0.775118</td>\n",
       "      <td>-0.599632</td>\n",
       "      <td>1.432447</td>\n",
       "      <td>-1.131948</td>\n",
       "      <td>1.208552</td>\n",
       "      <td>1.598765</td>\n",
       "      <td>-0.223303</td>\n",
       "      <td>0.294799</td>\n",
       "      <td>1.002460</td>\n",
       "      <td>...</td>\n",
       "      <td>0.009785</td>\n",
       "      <td>-1.409197</td>\n",
       "      <td>1.046960</td>\n",
       "      <td>-0.739005</td>\n",
       "      <td>0.892977</td>\n",
       "      <td>0.124811</td>\n",
       "      <td>1.053694</td>\n",
       "      <td>0.851134</td>\n",
       "      <td>0.198023</td>\n",
       "      <td>1</td>\n",
       "    </tr>\n",
       "    <tr>\n",
       "      <th>2</th>\n",
       "      <td>0.271572</td>\n",
       "      <td>-0.029083</td>\n",
       "      <td>-0.480875</td>\n",
       "      <td>-0.812340</td>\n",
       "      <td>-0.965499</td>\n",
       "      <td>0.803417</td>\n",
       "      <td>1.044536</td>\n",
       "      <td>-1.202564</td>\n",
       "      <td>0.501507</td>\n",
       "      <td>-0.818614</td>\n",
       "      <td>...</td>\n",
       "      <td>-0.368450</td>\n",
       "      <td>0.783298</td>\n",
       "      <td>-0.383518</td>\n",
       "      <td>0.272132</td>\n",
       "      <td>1.911763</td>\n",
       "      <td>1.786699</td>\n",
       "      <td>0.706129</td>\n",
       "      <td>2.035310</td>\n",
       "      <td>-1.288728</td>\n",
       "      <td>0</td>\n",
       "    </tr>\n",
       "    <tr>\n",
       "      <th>3</th>\n",
       "      <td>0.548198</td>\n",
       "      <td>-0.332067</td>\n",
       "      <td>-0.480875</td>\n",
       "      <td>1.144654</td>\n",
       "      <td>-1.159690</td>\n",
       "      <td>1.968179</td>\n",
       "      <td>-0.802892</td>\n",
       "      <td>1.306793</td>\n",
       "      <td>0.708215</td>\n",
       "      <td>1.184567</td>\n",
       "      <td>...</td>\n",
       "      <td>-1.434385</td>\n",
       "      <td>-1.517469</td>\n",
       "      <td>-0.069511</td>\n",
       "      <td>-0.401960</td>\n",
       "      <td>-0.415275</td>\n",
       "      <td>-0.516695</td>\n",
       "      <td>-1.031700</td>\n",
       "      <td>2.104968</td>\n",
       "      <td>0.198023</td>\n",
       "      <td>1</td>\n",
       "    </tr>\n",
       "    <tr>\n",
       "      <th>4</th>\n",
       "      <td>0.200439</td>\n",
       "      <td>1.132165</td>\n",
       "      <td>-0.520460</td>\n",
       "      <td>-1.124801</td>\n",
       "      <td>-1.020982</td>\n",
       "      <td>0.191820</td>\n",
       "      <td>1.635713</td>\n",
       "      <td>-0.361012</td>\n",
       "      <td>-0.371261</td>\n",
       "      <td>-0.575804</td>\n",
       "      <td>...</td>\n",
       "      <td>0.302058</td>\n",
       "      <td>-0.555658</td>\n",
       "      <td>-0.383518</td>\n",
       "      <td>-0.739005</td>\n",
       "      <td>0.024578</td>\n",
       "      <td>-0.219622</td>\n",
       "      <td>-1.031700</td>\n",
       "      <td>-0.611672</td>\n",
       "      <td>-0.917040</td>\n",
       "      <td>1</td>\n",
       "    </tr>\n",
       "  </tbody>\n",
       "</table>\n",
       "<p>5 rows × 21 columns</p>\n",
       "</div>"
      ],
      "text/plain": [
       "   aluminium   ammonia   arsenic    barium   cadmium  chloramine  chromium  \\\n",
       "0   0.777403 -0.585491 -0.480875  1.054205 -0.993241   -0.711941  2.152993   \n",
       "1   1.306945  0.775118 -0.599632  1.432447 -1.131948    1.208552  1.598765   \n",
       "2   0.271572 -0.029083 -0.480875 -0.812340 -0.965499    0.803417  1.044536   \n",
       "3   0.548198 -0.332067 -0.480875  1.144654 -1.159690    1.968179 -0.802892   \n",
       "4   0.200439  1.132165 -0.520460 -1.124801 -1.020982    0.191820  1.635713   \n",
       "\n",
       "     copper  flouride  bacteria  ...      lead  nitrates  nitrites   mercury  \\\n",
       "0 -0.973050 -1.657446 -0.363345  ... -0.781070  1.129767 -0.348629  0.609178   \n",
       "1 -0.223303  0.294799  1.002460  ...  0.009785 -1.409197  1.046960 -0.739005   \n",
       "2 -1.202564  0.501507 -0.818614  ... -0.368450  0.783298 -0.383518  0.272132   \n",
       "3  1.306793  0.708215  1.184567  ... -1.434385 -1.517469 -0.069511 -0.401960   \n",
       "4 -0.361012 -0.371261 -0.575804  ...  0.302058 -0.555658 -0.383518 -0.739005   \n",
       "\n",
       "   perchlorate    radium  selenium    silver   uranium  is_safe  \n",
       "0     1.203362  1.661842  1.053694  1.338736 -0.917040        1  \n",
       "1     0.892977  0.124811  1.053694  0.851134  0.198023        1  \n",
       "2     1.911763  1.786699  0.706129  2.035310 -1.288728        0  \n",
       "3    -0.415275 -0.516695 -1.031700  2.104968  0.198023        1  \n",
       "4     0.024578 -0.219622 -1.031700 -0.611672 -0.917040        1  \n",
       "\n",
       "[5 rows x 21 columns]"
      ]
     },
     "execution_count": 3,
     "metadata": {},
     "output_type": "execute_result"
    }
   ],
   "source": [
    "df2.head()"
   ]
  },
  {
   "cell_type": "markdown",
   "id": "9c0780fe",
   "metadata": {},
   "source": [
    "#### Split into featues and labels and check shape"
   ]
  },
  {
   "cell_type": "code",
   "execution_count": 4,
   "id": "15185bfb",
   "metadata": {},
   "outputs": [],
   "source": [
    "X = df2.drop(['is_safe'],axis=1)\n",
    "y = df2[\"is_safe\"]"
   ]
  },
  {
   "cell_type": "code",
   "execution_count": 5,
   "id": "83c199e4",
   "metadata": {},
   "outputs": [
    {
     "name": "stdout",
     "output_type": "stream",
     "text": [
      "Shape of X a shape of (14168, 20)\n",
      "\n",
      "Shape of 'y' targets a shape of (14168,)\n"
     ]
    }
   ],
   "source": [
    "print(f\"Shape of X a shape of {X.shape}\\n\")\n",
    "print(f\"Shape of 'y' targets a shape of {y.shape}\")"
   ]
  },
  {
   "cell_type": "code",
   "execution_count": 6,
   "id": "081eaf65",
   "metadata": {},
   "outputs": [
    {
     "data": {
      "text/plain": [
       "1    7084\n",
       "0    7084\n",
       "Name: is_safe, dtype: int64"
      ]
     },
     "execution_count": 6,
     "metadata": {},
     "output_type": "execute_result"
    }
   ],
   "source": [
    "df2[\"is_safe\"].value_counts()"
   ]
  },
  {
   "cell_type": "markdown",
   "id": "5f24810d",
   "metadata": {},
   "source": [
    "#### Split into train and test sets."
   ]
  },
  {
   "cell_type": "code",
   "execution_count": 7,
   "id": "634f9708",
   "metadata": {},
   "outputs": [],
   "source": [
    "from sklearn.model_selection import train_test_split"
   ]
  },
  {
   "cell_type": "code",
   "execution_count": 8,
   "id": "0bd0e3c6",
   "metadata": {},
   "outputs": [],
   "source": [
    "X_train,X_test,y_train,y_test = train_test_split(X,y,random_state=22,train_size=.8)"
   ]
  },
  {
   "cell_type": "markdown",
   "id": "4e7073fd",
   "metadata": {},
   "source": [
    "## Build Models"
   ]
  },
  {
   "cell_type": "code",
   "execution_count": 9,
   "id": "b00cec8b",
   "metadata": {},
   "outputs": [
    {
     "name": "stdout",
     "output_type": "stream",
     "text": [
      "Packages imported...\n"
     ]
    }
   ],
   "source": [
    "# Models\n",
    "# import torch\n",
    "# import torch.nn as nn\n",
    "from sklearn.svm import SVC\n",
    "from sklearn.linear_model import LogisticRegression\n",
    "from sklearn.ensemble import RandomForestClassifier\n",
    "from sklearn.tree import DecisionTreeClassifier\n",
    "from sklearn.ensemble import GradientBoostingClassifier\n",
    "\n",
    "# Metrics\n",
    "from sklearn.metrics import accuracy_score, classification_report, roc_curve\n",
    "\n",
    "# Cross Validation\n",
    "from sklearn.model_selection import cross_val_score\n",
    "from sklearn.model_selection import GridSearchCV\n",
    "\n",
    "print('Packages imported...')"
   ]
  },
  {
   "cell_type": "code",
   "execution_count": 10,
   "id": "4afa09f9",
   "metadata": {},
   "outputs": [
    {
     "name": "stdout",
     "output_type": "stream",
     "text": [
      "The test accuracy score of SVM is  0.7967537050105857\n"
     ]
    }
   ],
   "source": [
    "# instantiating the object and fitting\n",
    "clf = SVC(kernel='linear', C=1, random_state=42).fit(X_train,y_train)\n",
    "\n",
    "# predicting the values\n",
    "y_pred_svc = clf.predict(X_test)\n",
    "\n",
    "# printing the test accuracy\n",
    "print(\"The test accuracy score of SVM is \", accuracy_score(y_test, y_pred_svc))"
   ]
  },
  {
   "cell_type": "markdown",
   "id": "cadf1423",
   "metadata": {},
   "source": [
    "### Train the model"
   ]
  },
  {
   "cell_type": "code",
   "execution_count": 11,
   "id": "62eaecbc",
   "metadata": {},
   "outputs": [],
   "source": [
    "reg = LogisticRegression()"
   ]
  },
  {
   "cell_type": "code",
   "execution_count": 12,
   "id": "0a2b8b23",
   "metadata": {},
   "outputs": [
    {
     "data": {
      "text/plain": [
       "LogisticRegression()"
      ]
     },
     "execution_count": 12,
     "metadata": {},
     "output_type": "execute_result"
    }
   ],
   "source": [
    "reg.fit(X_train,y_train)"
   ]
  },
  {
   "cell_type": "code",
   "execution_count": 13,
   "id": "fa62fad8",
   "metadata": {},
   "outputs": [
    {
     "data": {
      "text/plain": [
       "0.8005999647079584"
      ]
     },
     "execution_count": 13,
     "metadata": {},
     "output_type": "execute_result"
    }
   ],
   "source": [
    "reg.score(X_train,y_train)"
   ]
  },
  {
   "cell_type": "markdown",
   "id": "f584b7a5",
   "metadata": {},
   "source": [
    "### Testing the model"
   ]
  },
  {
   "cell_type": "code",
   "execution_count": 14,
   "id": "3b88559e",
   "metadata": {},
   "outputs": [
    {
     "data": {
      "text/plain": [
       "0.7967537050105857"
      ]
     },
     "execution_count": 14,
     "metadata": {},
     "output_type": "execute_result"
    }
   ],
   "source": [
    "reg.score(X_test,y_test)"
   ]
  },
  {
   "cell_type": "code",
   "execution_count": null,
   "id": "b3ccc42e",
   "metadata": {},
   "outputs": [],
   "source": []
  },
  {
   "cell_type": "markdown",
   "id": "5c615674",
   "metadata": {},
   "source": [
    "### Train the Gradient Boosting Classifier model"
   ]
  },
  {
   "cell_type": "code",
   "execution_count": null,
   "id": "07fd1405",
   "metadata": {},
   "outputs": [],
   "source": [
    "# instantiate the classifier\n",
    "gbt = GradientBoostingClassifier(n_estimators = 300,max_depth=1,subsample=0.8,max_features=0.2,random_state=22)\n",
    "\n",
    "# fitting the model\n",
    "gbt.fit(X_train,y_train)\n"
   ]
  },
  {
   "cell_type": "code",
   "execution_count": null,
   "id": "2ad25cde",
   "metadata": {},
   "outputs": [],
   "source": [
    "# predicting values\n",
    "y_pred_gbt = gbt.predict(X_test)\n",
    "print(\"The test accuracy score of Gradient Boosting Classifier is \", accuracy_score(y_test, y_pred))"
   ]
  },
  {
   "cell_type": "code",
   "execution_count": null,
   "id": "45b8e73f",
   "metadata": {},
   "outputs": [],
   "source": []
  },
  {
   "cell_type": "code",
   "execution_count": null,
   "id": "db38026c",
   "metadata": {},
   "outputs": [],
   "source": []
  },
  {
   "cell_type": "code",
   "execution_count": null,
   "id": "6cd30919",
   "metadata": {},
   "outputs": [],
   "source": []
  }
 ],
 "metadata": {
  "kernelspec": {
   "display_name": "Python 3 (ipykernel)",
   "language": "python",
   "name": "python3"
  },
  "language_info": {
   "codemirror_mode": {
    "name": "ipython",
    "version": 3
   },
   "file_extension": ".py",
   "mimetype": "text/x-python",
   "name": "python",
   "nbconvert_exporter": "python",
   "pygments_lexer": "ipython3",
   "version": "3.9.12"
  }
 },
 "nbformat": 4,
 "nbformat_minor": 5
}
