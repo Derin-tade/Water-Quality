{
 "cells": [
  {
   "cell_type": "code",
   "execution_count": 1,
   "id": "6510ef4a",
   "metadata": {},
   "outputs": [],
   "source": [
    "# For this practical example we will need the following libraries and modules\n",
    "import numpy as np\n",
    "import pandas as pd"
   ]
  },
  {
   "cell_type": "markdown",
   "id": "1c604cfa",
   "metadata": {},
   "source": [
    "### Import df\n",
    "Near Miss Undersampled unpreprocessed data."
   ]
  },
  {
   "cell_type": "code",
   "execution_count": 2,
   "id": "87648ed7",
   "metadata": {},
   "outputs": [],
   "source": [
    "df1 = pd.read_csv(\"df1.csv\")"
   ]
  },
  {
   "cell_type": "code",
   "execution_count": 3,
   "id": "282d070a",
   "metadata": {},
   "outputs": [
    {
     "data": {
      "text/html": [
       "<div>\n",
       "<style scoped>\n",
       "    .dataframe tbody tr th:only-of-type {\n",
       "        vertical-align: middle;\n",
       "    }\n",
       "\n",
       "    .dataframe tbody tr th {\n",
       "        vertical-align: top;\n",
       "    }\n",
       "\n",
       "    .dataframe thead th {\n",
       "        text-align: right;\n",
       "    }\n",
       "</style>\n",
       "<table border=\"1\" class=\"dataframe\">\n",
       "  <thead>\n",
       "    <tr style=\"text-align: right;\">\n",
       "      <th></th>\n",
       "      <th>aluminium</th>\n",
       "      <th>ammonia</th>\n",
       "      <th>arsenic</th>\n",
       "      <th>barium</th>\n",
       "      <th>cadmium</th>\n",
       "      <th>chloramine</th>\n",
       "      <th>chromium</th>\n",
       "      <th>copper</th>\n",
       "      <th>flouride</th>\n",
       "      <th>bacteria</th>\n",
       "      <th>...</th>\n",
       "      <th>lead</th>\n",
       "      <th>nitrates</th>\n",
       "      <th>nitrites</th>\n",
       "      <th>mercury</th>\n",
       "      <th>perchlorate</th>\n",
       "      <th>radium</th>\n",
       "      <th>selenium</th>\n",
       "      <th>silver</th>\n",
       "      <th>uranium</th>\n",
       "      <th>is_safe</th>\n",
       "    </tr>\n",
       "  </thead>\n",
       "  <tbody>\n",
       "    <tr>\n",
       "      <th>0</th>\n",
       "      <td>-0.463465</td>\n",
       "      <td>0.342606</td>\n",
       "      <td>-0.401703</td>\n",
       "      <td>-1.215250</td>\n",
       "      <td>0.199645</td>\n",
       "      <td>-0.618449</td>\n",
       "      <td>-0.618149</td>\n",
       "      <td>-1.095458</td>\n",
       "      <td>-0.256424</td>\n",
       "      <td>-0.757911</td>\n",
       "      <td>...</td>\n",
       "      <td>-0.144947</td>\n",
       "      <td>-1.696116</td>\n",
       "      <td>-1.238316</td>\n",
       "      <td>0.946224</td>\n",
       "      <td>-0.658947</td>\n",
       "      <td>-0.921403</td>\n",
       "      <td>-1.031700</td>\n",
       "      <td>-1.029616</td>\n",
       "      <td>0.198023</td>\n",
       "      <td>0</td>\n",
       "    </tr>\n",
       "    <tr>\n",
       "      <th>1</th>\n",
       "      <td>-0.447657</td>\n",
       "      <td>1.098375</td>\n",
       "      <td>-0.362118</td>\n",
       "      <td>-0.919234</td>\n",
       "      <td>0.199645</td>\n",
       "      <td>-0.789852</td>\n",
       "      <td>-0.839840</td>\n",
       "      <td>-0.361012</td>\n",
       "      <td>-0.371261</td>\n",
       "      <td>-0.575804</td>\n",
       "      <td>...</td>\n",
       "      <td>0.302058</td>\n",
       "      <td>-0.555658</td>\n",
       "      <td>-1.796552</td>\n",
       "      <td>-0.739005</td>\n",
       "      <td>-0.832514</td>\n",
       "      <td>-0.912792</td>\n",
       "      <td>-1.031700</td>\n",
       "      <td>-0.542014</td>\n",
       "      <td>-0.917040</td>\n",
       "      <td>0</td>\n",
       "    </tr>\n",
       "    <tr>\n",
       "      <th>2</th>\n",
       "      <td>-0.463465</td>\n",
       "      <td>0.424829</td>\n",
       "      <td>-0.362118</td>\n",
       "      <td>-1.034351</td>\n",
       "      <td>-0.632601</td>\n",
       "      <td>-0.680777</td>\n",
       "      <td>-0.655098</td>\n",
       "      <td>-1.080157</td>\n",
       "      <td>-0.417197</td>\n",
       "      <td>-0.970370</td>\n",
       "      <td>...</td>\n",
       "      <td>1.196068</td>\n",
       "      <td>-0.864231</td>\n",
       "      <td>-2.162893</td>\n",
       "      <td>-0.401960</td>\n",
       "      <td>-0.505733</td>\n",
       "      <td>-0.762103</td>\n",
       "      <td>0.706129</td>\n",
       "      <td>-0.681329</td>\n",
       "      <td>-1.288728</td>\n",
       "      <td>0</td>\n",
       "    </tr>\n",
       "    <tr>\n",
       "      <th>3</th>\n",
       "      <td>-0.297489</td>\n",
       "      <td>-0.060621</td>\n",
       "      <td>-0.560046</td>\n",
       "      <td>-0.861675</td>\n",
       "      <td>-0.993241</td>\n",
       "      <td>0.316477</td>\n",
       "      <td>-0.507303</td>\n",
       "      <td>0.511143</td>\n",
       "      <td>-0.945451</td>\n",
       "      <td>-0.575804</td>\n",
       "      <td>...</td>\n",
       "      <td>-0.488797</td>\n",
       "      <td>1.602552</td>\n",
       "      <td>-0.139290</td>\n",
       "      <td>-0.401960</td>\n",
       "      <td>1.291559</td>\n",
       "      <td>-0.318646</td>\n",
       "      <td>-0.336568</td>\n",
       "      <td>-0.959959</td>\n",
       "      <td>-0.917040</td>\n",
       "      <td>0</td>\n",
       "    </tr>\n",
       "    <tr>\n",
       "      <th>4</th>\n",
       "      <td>-0.518790</td>\n",
       "      <td>-0.440194</td>\n",
       "      <td>-0.362118</td>\n",
       "      <td>-0.861675</td>\n",
       "      <td>-0.910016</td>\n",
       "      <td>-0.824912</td>\n",
       "      <td>-0.581200</td>\n",
       "      <td>-1.110759</td>\n",
       "      <td>-0.876548</td>\n",
       "      <td>-0.818614</td>\n",
       "      <td>...</td>\n",
       "      <td>0.439598</td>\n",
       "      <td>-1.355062</td>\n",
       "      <td>-2.215228</td>\n",
       "      <td>-0.739005</td>\n",
       "      <td>-0.928060</td>\n",
       "      <td>-1.016122</td>\n",
       "      <td>0.010997</td>\n",
       "      <td>-0.959959</td>\n",
       "      <td>-0.917040</td>\n",
       "      <td>0</td>\n",
       "    </tr>\n",
       "  </tbody>\n",
       "</table>\n",
       "<p>5 rows × 21 columns</p>\n",
       "</div>"
      ],
      "text/plain": [
       "   aluminium   ammonia   arsenic    barium   cadmium  chloramine  chromium  \\\n",
       "0  -0.463465  0.342606 -0.401703 -1.215250  0.199645   -0.618449 -0.618149   \n",
       "1  -0.447657  1.098375 -0.362118 -0.919234  0.199645   -0.789852 -0.839840   \n",
       "2  -0.463465  0.424829 -0.362118 -1.034351 -0.632601   -0.680777 -0.655098   \n",
       "3  -0.297489 -0.060621 -0.560046 -0.861675 -0.993241    0.316477 -0.507303   \n",
       "4  -0.518790 -0.440194 -0.362118 -0.861675 -0.910016   -0.824912 -0.581200   \n",
       "\n",
       "     copper  flouride  bacteria  ...      lead  nitrates  nitrites   mercury  \\\n",
       "0 -1.095458 -0.256424 -0.757911  ... -0.144947 -1.696116 -1.238316  0.946224   \n",
       "1 -0.361012 -0.371261 -0.575804  ...  0.302058 -0.555658 -1.796552 -0.739005   \n",
       "2 -1.080157 -0.417197 -0.970370  ...  1.196068 -0.864231 -2.162893 -0.401960   \n",
       "3  0.511143 -0.945451 -0.575804  ... -0.488797  1.602552 -0.139290 -0.401960   \n",
       "4 -1.110759 -0.876548 -0.818614  ...  0.439598 -1.355062 -2.215228 -0.739005   \n",
       "\n",
       "   perchlorate    radium  selenium    silver   uranium  is_safe  \n",
       "0    -0.658947 -0.921403 -1.031700 -1.029616  0.198023        0  \n",
       "1    -0.832514 -0.912792 -1.031700 -0.542014 -0.917040        0  \n",
       "2    -0.505733 -0.762103  0.706129 -0.681329 -1.288728        0  \n",
       "3     1.291559 -0.318646 -0.336568 -0.959959 -0.917040        0  \n",
       "4    -0.928060 -1.016122  0.010997 -0.959959 -0.917040        0  \n",
       "\n",
       "[5 rows x 21 columns]"
      ]
     },
     "execution_count": 3,
     "metadata": {},
     "output_type": "execute_result"
    }
   ],
   "source": [
    "df1.head()"
   ]
  },
  {
   "cell_type": "markdown",
   "id": "4c5269af",
   "metadata": {},
   "source": [
    "#### Split into featues and labels and check shape"
   ]
  },
  {
   "cell_type": "code",
   "execution_count": 4,
   "id": "a6d713c7",
   "metadata": {},
   "outputs": [],
   "source": [
    "X = df1.drop(['is_safe'],axis=1)\n",
    "y = df1[\"is_safe\"]"
   ]
  },
  {
   "cell_type": "markdown",
   "id": "f5319e37",
   "metadata": {},
   "source": [
    "#### Split into train and test sets."
   ]
  },
  {
   "cell_type": "code",
   "execution_count": 5,
   "id": "6e0a7067",
   "metadata": {},
   "outputs": [],
   "source": [
    "from sklearn.model_selection import train_test_split"
   ]
  },
  {
   "cell_type": "code",
   "execution_count": 7,
   "id": "80174a80",
   "metadata": {},
   "outputs": [],
   "source": [
    "X_train,X_test,y_train,y_test = train_test_split(X,y,random_state=22,train_size=.8)"
   ]
  },
  {
   "cell_type": "markdown",
   "id": "e666459a",
   "metadata": {},
   "source": [
    "## Start Building Models"
   ]
  },
  {
   "cell_type": "markdown",
   "id": "db36194c",
   "metadata": {},
   "source": [
    "## Build Models"
   ]
  },
  {
   "cell_type": "code",
   "execution_count": 8,
   "id": "dab2e1a4",
   "metadata": {},
   "outputs": [
    {
     "name": "stdout",
     "output_type": "stream",
     "text": [
      "Packages imported...\n"
     ]
    }
   ],
   "source": [
    "# Models\n",
    "# import torch\n",
    "# import torch.nn as nn\n",
    "from sklearn.svm import SVC\n",
    "from sklearn.linear_model import LogisticRegression\n",
    "from sklearn.ensemble import RandomForestClassifier\n",
    "from sklearn.tree import DecisionTreeClassifier\n",
    "from sklearn.ensemble import GradientBoostingClassifier\n",
    "\n",
    "# Metrics\n",
    "from sklearn.metrics import accuracy_score, classification_report, roc_curve\n",
    "\n",
    "# Cross Validation\n",
    "from sklearn.model_selection import cross_val_score\n",
    "from sklearn.model_selection import GridSearchCV\n",
    "\n",
    "print('Packages imported...')"
   ]
  },
  {
   "cell_type": "code",
   "execution_count": 9,
   "id": "88966e19",
   "metadata": {},
   "outputs": [
    {
     "name": "stdout",
     "output_type": "stream",
     "text": [
      "The test accuracy score of SVM is  0.8684931506849315\n"
     ]
    }
   ],
   "source": [
    "# instantiating the object and fitting\n",
    "clf = SVC(kernel='linear', C=1, random_state=42).fit(X_train,y_train)\n",
    "\n",
    "# predicting the values\n",
    "y_pred = clf.predict(X_test)\n",
    "\n",
    "# printing the test accuracy\n",
    "print(\"The test accuracy score of SVM is \", accuracy_score(y_test, y_pred))"
   ]
  },
  {
   "cell_type": "markdown",
   "id": "cadf1423",
   "metadata": {},
   "source": [
    "### Train the model"
   ]
  },
  {
   "cell_type": "code",
   "execution_count": 10,
   "id": "62eaecbc",
   "metadata": {},
   "outputs": [],
   "source": [
    "reg = LogisticRegression()"
   ]
  },
  {
   "cell_type": "code",
   "execution_count": 11,
   "id": "0a2b8b23",
   "metadata": {},
   "outputs": [
    {
     "data": {
      "text/plain": [
       "LogisticRegression()"
      ]
     },
     "execution_count": 11,
     "metadata": {},
     "output_type": "execute_result"
    }
   ],
   "source": [
    "reg.fit(X_train,y_train)"
   ]
  },
  {
   "cell_type": "code",
   "execution_count": 12,
   "id": "fa62fad8",
   "metadata": {},
   "outputs": [
    {
     "data": {
      "text/plain": [
       "0.8560657984921178"
      ]
     },
     "execution_count": 12,
     "metadata": {},
     "output_type": "execute_result"
    }
   ],
   "source": [
    "reg.score(X_train,y_train)"
   ]
  },
  {
   "cell_type": "markdown",
   "id": "f584b7a5",
   "metadata": {},
   "source": [
    "### Testing the model"
   ]
  },
  {
   "cell_type": "code",
   "execution_count": 13,
   "id": "3b88559e",
   "metadata": {},
   "outputs": [
    {
     "data": {
      "text/plain": [
       "0.8767123287671232"
      ]
     },
     "execution_count": 13,
     "metadata": {},
     "output_type": "execute_result"
    }
   ],
   "source": [
    "reg.score(X_test,y_test)"
   ]
  },
  {
   "cell_type": "markdown",
   "id": "cfecf340",
   "metadata": {},
   "source": [
    "### Train the Gradient Boosting Classifier model"
   ]
  },
  {
   "cell_type": "code",
   "execution_count": 14,
   "id": "6fbe1d55",
   "metadata": {},
   "outputs": [
    {
     "data": {
      "text/plain": [
       "GradientBoostingClassifier(max_depth=1, max_features=0.2, n_estimators=300,\n",
       "                           random_state=22, subsample=0.8)"
      ]
     },
     "execution_count": 14,
     "metadata": {},
     "output_type": "execute_result"
    }
   ],
   "source": [
    "# instantiate the classifier\n",
    "gbt = GradientBoostingClassifier(n_estimators = 300,max_depth=1,subsample=0.8,max_features=0.2,random_state=22)\n",
    "\n",
    "# fitting the model\n",
    "gbt.fit(X_train,y_train)\n"
   ]
  },
  {
   "cell_type": "code",
   "execution_count": 15,
   "id": "e4d24fc2",
   "metadata": {},
   "outputs": [
    {
     "name": "stdout",
     "output_type": "stream",
     "text": [
      "The test accuracy score of Gradient Boosting Classifier is  0.8876712328767123\n"
     ]
    }
   ],
   "source": [
    "# predicting values\n",
    "y_pred = gbt.predict(X_test)\n",
    "print(\"The test accuracy score of Gradient Boosting Classifier is \", accuracy_score(y_test, y_pred))"
   ]
  },
  {
   "cell_type": "code",
   "execution_count": null,
   "id": "45b8e73f",
   "metadata": {},
   "outputs": [],
   "source": []
  },
  {
   "cell_type": "code",
   "execution_count": null,
   "id": "f63515a0",
   "metadata": {},
   "outputs": [],
   "source": []
  }
 ],
 "metadata": {
  "kernelspec": {
   "display_name": "Python 3 (ipykernel)",
   "language": "python",
   "name": "python3"
  },
  "language_info": {
   "codemirror_mode": {
    "name": "ipython",
    "version": 3
   },
   "file_extension": ".py",
   "mimetype": "text/x-python",
   "name": "python",
   "nbconvert_exporter": "python",
   "pygments_lexer": "ipython3",
   "version": "3.9.7"
  }
 },
 "nbformat": 4,
 "nbformat_minor": 5
}
