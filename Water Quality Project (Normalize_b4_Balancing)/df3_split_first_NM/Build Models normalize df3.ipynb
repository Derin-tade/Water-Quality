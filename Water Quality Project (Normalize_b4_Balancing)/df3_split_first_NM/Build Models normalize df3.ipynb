{
 "cells": [
  {
   "cell_type": "code",
   "execution_count": 1,
   "id": "6510ef4a",
   "metadata": {},
   "outputs": [],
   "source": [
    "# For this practical example we will need the following libraries and modules\n",
    "import numpy as np\n",
    "import pandas as pd"
   ]
  },
  {
   "cell_type": "markdown",
   "id": "1c604cfa",
   "metadata": {},
   "source": [
    "### Import df\n",
    "Near Miss Undersampled unpreprocessed data."
   ]
  },
  {
   "cell_type": "code",
   "execution_count": 2,
   "id": "87648ed7",
   "metadata": {},
   "outputs": [],
   "source": [
    "df3 = pd.read_csv(\"df3.csv\")"
   ]
  },
  {
   "cell_type": "code",
   "execution_count": 3,
   "id": "282d070a",
   "metadata": {},
   "outputs": [
    {
     "data": {
      "text/html": [
       "<div>\n",
       "<style scoped>\n",
       "    .dataframe tbody tr th:only-of-type {\n",
       "        vertical-align: middle;\n",
       "    }\n",
       "\n",
       "    .dataframe tbody tr th {\n",
       "        vertical-align: top;\n",
       "    }\n",
       "\n",
       "    .dataframe thead th {\n",
       "        text-align: right;\n",
       "    }\n",
       "</style>\n",
       "<table border=\"1\" class=\"dataframe\">\n",
       "  <thead>\n",
       "    <tr style=\"text-align: right;\">\n",
       "      <th></th>\n",
       "      <th>aluminium</th>\n",
       "      <th>ammonia</th>\n",
       "      <th>arsenic</th>\n",
       "      <th>barium</th>\n",
       "      <th>cadmium</th>\n",
       "      <th>chloramine</th>\n",
       "      <th>chromium</th>\n",
       "      <th>copper</th>\n",
       "      <th>flouride</th>\n",
       "      <th>bacteria</th>\n",
       "      <th>...</th>\n",
       "      <th>lead</th>\n",
       "      <th>nitrates</th>\n",
       "      <th>nitrites</th>\n",
       "      <th>mercury</th>\n",
       "      <th>perchlorate</th>\n",
       "      <th>radium</th>\n",
       "      <th>selenium</th>\n",
       "      <th>silver</th>\n",
       "      <th>uranium</th>\n",
       "      <th>is_safe</th>\n",
       "    </tr>\n",
       "  </thead>\n",
       "  <tbody>\n",
       "    <tr>\n",
       "      <th>0</th>\n",
       "      <td>-0.463465</td>\n",
       "      <td>0.424829</td>\n",
       "      <td>-0.362118</td>\n",
       "      <td>-1.034351</td>\n",
       "      <td>-0.632601</td>\n",
       "      <td>-0.680777</td>\n",
       "      <td>-0.655098</td>\n",
       "      <td>-1.080157</td>\n",
       "      <td>-0.417197</td>\n",
       "      <td>-0.970370</td>\n",
       "      <td>...</td>\n",
       "      <td>1.196068</td>\n",
       "      <td>-0.864231</td>\n",
       "      <td>-2.162893</td>\n",
       "      <td>-0.401960</td>\n",
       "      <td>-0.505733</td>\n",
       "      <td>-0.762103</td>\n",
       "      <td>0.706129</td>\n",
       "      <td>-0.681329</td>\n",
       "      <td>-1.288728</td>\n",
       "      <td>0</td>\n",
       "    </tr>\n",
       "    <tr>\n",
       "      <th>1</th>\n",
       "      <td>-0.297489</td>\n",
       "      <td>-0.060621</td>\n",
       "      <td>-0.560046</td>\n",
       "      <td>-0.861675</td>\n",
       "      <td>-0.993241</td>\n",
       "      <td>0.316477</td>\n",
       "      <td>-0.507303</td>\n",
       "      <td>0.511143</td>\n",
       "      <td>-0.945451</td>\n",
       "      <td>-0.575804</td>\n",
       "      <td>...</td>\n",
       "      <td>-0.488797</td>\n",
       "      <td>1.602552</td>\n",
       "      <td>-0.139290</td>\n",
       "      <td>-0.401960</td>\n",
       "      <td>1.291559</td>\n",
       "      <td>-0.318646</td>\n",
       "      <td>-0.336568</td>\n",
       "      <td>-0.959959</td>\n",
       "      <td>-0.917040</td>\n",
       "      <td>0</td>\n",
       "    </tr>\n",
       "    <tr>\n",
       "      <th>2</th>\n",
       "      <td>-0.518790</td>\n",
       "      <td>-0.440194</td>\n",
       "      <td>-0.362118</td>\n",
       "      <td>-0.861675</td>\n",
       "      <td>-0.910016</td>\n",
       "      <td>-0.824912</td>\n",
       "      <td>-0.581200</td>\n",
       "      <td>-1.110759</td>\n",
       "      <td>-0.876548</td>\n",
       "      <td>-0.818614</td>\n",
       "      <td>...</td>\n",
       "      <td>0.439598</td>\n",
       "      <td>-1.355062</td>\n",
       "      <td>-2.215228</td>\n",
       "      <td>-0.739005</td>\n",
       "      <td>-0.928060</td>\n",
       "      <td>-1.016122</td>\n",
       "      <td>0.010997</td>\n",
       "      <td>-0.959959</td>\n",
       "      <td>-0.917040</td>\n",
       "      <td>0</td>\n",
       "    </tr>\n",
       "    <tr>\n",
       "      <th>3</th>\n",
       "      <td>-0.463465</td>\n",
       "      <td>-0.817516</td>\n",
       "      <td>-0.520460</td>\n",
       "      <td>-1.281031</td>\n",
       "      <td>-0.077771</td>\n",
       "      <td>-0.848285</td>\n",
       "      <td>-0.581200</td>\n",
       "      <td>-1.217865</td>\n",
       "      <td>-0.807646</td>\n",
       "      <td>-0.970370</td>\n",
       "      <td>...</td>\n",
       "      <td>0.267673</td>\n",
       "      <td>-0.764982</td>\n",
       "      <td>-1.465099</td>\n",
       "      <td>-0.064914</td>\n",
       "      <td>-0.782196</td>\n",
       "      <td>-0.228232</td>\n",
       "      <td>0.358563</td>\n",
       "      <td>-0.681329</td>\n",
       "      <td>0.569710</td>\n",
       "      <td>0</td>\n",
       "    </tr>\n",
       "    <tr>\n",
       "      <th>4</th>\n",
       "      <td>-0.455561</td>\n",
       "      <td>1.333779</td>\n",
       "      <td>-0.401703</td>\n",
       "      <td>-0.647886</td>\n",
       "      <td>0.199645</td>\n",
       "      <td>-0.836598</td>\n",
       "      <td>-0.618149</td>\n",
       "      <td>-0.804739</td>\n",
       "      <td>0.777118</td>\n",
       "      <td>-0.970370</td>\n",
       "      <td>...</td>\n",
       "      <td>-0.815455</td>\n",
       "      <td>-1.598672</td>\n",
       "      <td>-1.813996</td>\n",
       "      <td>0.946224</td>\n",
       "      <td>-0.913926</td>\n",
       "      <td>0.215225</td>\n",
       "      <td>0.358563</td>\n",
       "      <td>-0.402699</td>\n",
       "      <td>-0.917040</td>\n",
       "      <td>0</td>\n",
       "    </tr>\n",
       "  </tbody>\n",
       "</table>\n",
       "<p>5 rows × 21 columns</p>\n",
       "</div>"
      ],
      "text/plain": [
       "   aluminium   ammonia   arsenic    barium   cadmium  chloramine  chromium  \\\n",
       "0  -0.463465  0.424829 -0.362118 -1.034351 -0.632601   -0.680777 -0.655098   \n",
       "1  -0.297489 -0.060621 -0.560046 -0.861675 -0.993241    0.316477 -0.507303   \n",
       "2  -0.518790 -0.440194 -0.362118 -0.861675 -0.910016   -0.824912 -0.581200   \n",
       "3  -0.463465 -0.817516 -0.520460 -1.281031 -0.077771   -0.848285 -0.581200   \n",
       "4  -0.455561  1.333779 -0.401703 -0.647886  0.199645   -0.836598 -0.618149   \n",
       "\n",
       "     copper  flouride  bacteria  ...      lead  nitrates  nitrites   mercury  \\\n",
       "0 -1.080157 -0.417197 -0.970370  ...  1.196068 -0.864231 -2.162893 -0.401960   \n",
       "1  0.511143 -0.945451 -0.575804  ... -0.488797  1.602552 -0.139290 -0.401960   \n",
       "2 -1.110759 -0.876548 -0.818614  ...  0.439598 -1.355062 -2.215228 -0.739005   \n",
       "3 -1.217865 -0.807646 -0.970370  ...  0.267673 -0.764982 -1.465099 -0.064914   \n",
       "4 -0.804739  0.777118 -0.970370  ... -0.815455 -1.598672 -1.813996  0.946224   \n",
       "\n",
       "   perchlorate    radium  selenium    silver   uranium  is_safe  \n",
       "0    -0.505733 -0.762103  0.706129 -0.681329 -1.288728        0  \n",
       "1     1.291559 -0.318646 -0.336568 -0.959959 -0.917040        0  \n",
       "2    -0.928060 -1.016122  0.010997 -0.959959 -0.917040        0  \n",
       "3    -0.782196 -0.228232  0.358563 -0.681329  0.569710        0  \n",
       "4    -0.913926  0.215225  0.358563 -0.402699 -0.917040        0  \n",
       "\n",
       "[5 rows x 21 columns]"
      ]
     },
     "execution_count": 3,
     "metadata": {},
     "output_type": "execute_result"
    }
   ],
   "source": [
    "df3.head()"
   ]
  },
  {
   "cell_type": "markdown",
   "id": "4c5269af",
   "metadata": {},
   "source": [
    "#### Split into featues and labels and check shape"
   ]
  },
  {
   "cell_type": "code",
   "execution_count": 4,
   "id": "a6d713c7",
   "metadata": {},
   "outputs": [],
   "source": [
    "X = df3.drop(['is_safe'],axis=1)\n",
    "y = df3[\"is_safe\"]"
   ]
  },
  {
   "cell_type": "code",
   "execution_count": 7,
   "id": "f85b24d5",
   "metadata": {},
   "outputs": [
    {
     "name": "stdout",
     "output_type": "stream",
     "text": [
      "Shape of X_scaled a shape of (1408, 20)\n",
      "\n",
      "Shape of 'y' targets a shape of (1408,)\n"
     ]
    }
   ],
   "source": [
    "print(f\"Shape of X_scaled a shape of {X.shape}\\n\")\n",
    "print(f\"Shape of 'y' targets a shape of {y.shape}\")"
   ]
  },
  {
   "cell_type": "code",
   "execution_count": 8,
   "id": "298ec540",
   "metadata": {},
   "outputs": [
    {
     "data": {
      "text/plain": [
       "0    704\n",
       "1    704\n",
       "Name: is_safe, dtype: int64"
      ]
     },
     "execution_count": 8,
     "metadata": {},
     "output_type": "execute_result"
    }
   ],
   "source": [
    "df3[\"is_safe\"].value_counts()"
   ]
  },
  {
   "cell_type": "markdown",
   "id": "f5319e37",
   "metadata": {},
   "source": [
    "#### Split into train and test sets."
   ]
  },
  {
   "cell_type": "code",
   "execution_count": 9,
   "id": "6e0a7067",
   "metadata": {},
   "outputs": [],
   "source": [
    "from sklearn.model_selection import train_test_split"
   ]
  },
  {
   "cell_type": "code",
   "execution_count": 18,
   "id": "80174a80",
   "metadata": {},
   "outputs": [],
   "source": [
    "X_train,X_val,y_train,y_val = train_test_split(X,y,random_state=22,train_size=.8)"
   ]
  },
  {
   "cell_type": "markdown",
   "id": "a405566e",
   "metadata": {},
   "source": [
    "#### Bring in the test dataset"
   ]
  },
  {
   "cell_type": "code",
   "execution_count": 13,
   "id": "6c2ff324",
   "metadata": {},
   "outputs": [],
   "source": [
    "test_df = pd.read_csv(\"test_df.csv\")"
   ]
  },
  {
   "cell_type": "code",
   "execution_count": 14,
   "id": "b025b03f",
   "metadata": {},
   "outputs": [
    {
     "data": {
      "text/html": [
       "<div>\n",
       "<style scoped>\n",
       "    .dataframe tbody tr th:only-of-type {\n",
       "        vertical-align: middle;\n",
       "    }\n",
       "\n",
       "    .dataframe tbody tr th {\n",
       "        vertical-align: top;\n",
       "    }\n",
       "\n",
       "    .dataframe thead th {\n",
       "        text-align: right;\n",
       "    }\n",
       "</style>\n",
       "<table border=\"1\" class=\"dataframe\">\n",
       "  <thead>\n",
       "    <tr style=\"text-align: right;\">\n",
       "      <th></th>\n",
       "      <th>aluminium</th>\n",
       "      <th>ammonia</th>\n",
       "      <th>arsenic</th>\n",
       "      <th>barium</th>\n",
       "      <th>cadmium</th>\n",
       "      <th>chloramine</th>\n",
       "      <th>chromium</th>\n",
       "      <th>copper</th>\n",
       "      <th>flouride</th>\n",
       "      <th>bacteria</th>\n",
       "      <th>...</th>\n",
       "      <th>lead</th>\n",
       "      <th>nitrates</th>\n",
       "      <th>nitrites</th>\n",
       "      <th>mercury</th>\n",
       "      <th>perchlorate</th>\n",
       "      <th>radium</th>\n",
       "      <th>selenium</th>\n",
       "      <th>silver</th>\n",
       "      <th>uranium</th>\n",
       "      <th>is_safe</th>\n",
       "    </tr>\n",
       "  </thead>\n",
       "  <tbody>\n",
       "    <tr>\n",
       "      <th>0</th>\n",
       "      <td>-0.518790</td>\n",
       "      <td>-1.394198</td>\n",
       "      <td>-0.560046</td>\n",
       "      <td>-0.138081</td>\n",
       "      <td>1.309305</td>\n",
       "      <td>-0.824912</td>\n",
       "      <td>-0.655098</td>\n",
       "      <td>0.388735</td>\n",
       "      <td>0.708215</td>\n",
       "      <td>-0.970370</td>\n",
       "      <td>...</td>\n",
       "      <td>1.539919</td>\n",
       "      <td>-0.481672</td>\n",
       "      <td>-1.081313</td>\n",
       "      <td>0.609178</td>\n",
       "      <td>-0.697957</td>\n",
       "      <td>-1.158201</td>\n",
       "      <td>1.748826</td>\n",
       "      <td>-0.890301</td>\n",
       "      <td>-1.660415</td>\n",
       "      <td>0</td>\n",
       "    </tr>\n",
       "    <tr>\n",
       "      <th>1</th>\n",
       "      <td>2.373933</td>\n",
       "      <td>0.849456</td>\n",
       "      <td>-0.203775</td>\n",
       "      <td>-0.499878</td>\n",
       "      <td>-0.632601</td>\n",
       "      <td>-0.022434</td>\n",
       "      <td>-0.913738</td>\n",
       "      <td>1.016075</td>\n",
       "      <td>1.075697</td>\n",
       "      <td>1.548782</td>\n",
       "      <td>...</td>\n",
       "      <td>-1.262460</td>\n",
       "      <td>-1.569800</td>\n",
       "      <td>1.884312</td>\n",
       "      <td>1.283269</td>\n",
       "      <td>1.582721</td>\n",
       "      <td>1.605872</td>\n",
       "      <td>1.748826</td>\n",
       "      <td>0.224217</td>\n",
       "      <td>1.684773</td>\n",
       "      <td>0</td>\n",
       "    </tr>\n",
       "    <tr>\n",
       "      <th>2</th>\n",
       "      <td>-0.518790</td>\n",
       "      <td>-0.490879</td>\n",
       "      <td>-0.480875</td>\n",
       "      <td>-0.804117</td>\n",
       "      <td>0.754475</td>\n",
       "      <td>-0.801539</td>\n",
       "      <td>-0.765943</td>\n",
       "      <td>-1.141360</td>\n",
       "      <td>-0.463132</td>\n",
       "      <td>-0.970370</td>\n",
       "      <td>...</td>\n",
       "      <td>-1.314038</td>\n",
       "      <td>-1.237768</td>\n",
       "      <td>-2.058224</td>\n",
       "      <td>0.609178</td>\n",
       "      <td>-0.906576</td>\n",
       "      <td>-1.072093</td>\n",
       "      <td>-0.684134</td>\n",
       "      <td>-0.890301</td>\n",
       "      <td>0.569710</td>\n",
       "      <td>0</td>\n",
       "    </tr>\n",
       "    <tr>\n",
       "      <th>3</th>\n",
       "      <td>-0.502983</td>\n",
       "      <td>-0.087652</td>\n",
       "      <td>-0.441289</td>\n",
       "      <td>-0.639664</td>\n",
       "      <td>-0.632601</td>\n",
       "      <td>-0.844389</td>\n",
       "      <td>-0.839840</td>\n",
       "      <td>-1.171962</td>\n",
       "      <td>1.236470</td>\n",
       "      <td>-0.970370</td>\n",
       "      <td>...</td>\n",
       "      <td>-0.196525</td>\n",
       "      <td>-0.059414</td>\n",
       "      <td>-1.674438</td>\n",
       "      <td>1.620315</td>\n",
       "      <td>-0.435628</td>\n",
       "      <td>-0.779325</td>\n",
       "      <td>1.748826</td>\n",
       "      <td>-0.472357</td>\n",
       "      <td>0.569710</td>\n",
       "      <td>0</td>\n",
       "    </tr>\n",
       "    <tr>\n",
       "      <th>4</th>\n",
       "      <td>-0.502983</td>\n",
       "      <td>-0.375994</td>\n",
       "      <td>-0.243361</td>\n",
       "      <td>-0.976793</td>\n",
       "      <td>-0.077771</td>\n",
       "      <td>-0.774270</td>\n",
       "      <td>-0.655098</td>\n",
       "      <td>-1.202564</td>\n",
       "      <td>0.731183</td>\n",
       "      <td>-0.970370</td>\n",
       "      <td>...</td>\n",
       "      <td>0.886603</td>\n",
       "      <td>0.969164</td>\n",
       "      <td>-0.732415</td>\n",
       "      <td>0.272132</td>\n",
       "      <td>-0.612587</td>\n",
       "      <td>-0.985984</td>\n",
       "      <td>0.706129</td>\n",
       "      <td>-0.472357</td>\n",
       "      <td>-1.288728</td>\n",
       "      <td>0</td>\n",
       "    </tr>\n",
       "  </tbody>\n",
       "</table>\n",
       "<p>5 rows × 21 columns</p>\n",
       "</div>"
      ],
      "text/plain": [
       "   aluminium   ammonia   arsenic    barium   cadmium  chloramine  chromium  \\\n",
       "0  -0.518790 -1.394198 -0.560046 -0.138081  1.309305   -0.824912 -0.655098   \n",
       "1   2.373933  0.849456 -0.203775 -0.499878 -0.632601   -0.022434 -0.913738   \n",
       "2  -0.518790 -0.490879 -0.480875 -0.804117  0.754475   -0.801539 -0.765943   \n",
       "3  -0.502983 -0.087652 -0.441289 -0.639664 -0.632601   -0.844389 -0.839840   \n",
       "4  -0.502983 -0.375994 -0.243361 -0.976793 -0.077771   -0.774270 -0.655098   \n",
       "\n",
       "     copper  flouride  bacteria  ...      lead  nitrates  nitrites   mercury  \\\n",
       "0  0.388735  0.708215 -0.970370  ...  1.539919 -0.481672 -1.081313  0.609178   \n",
       "1  1.016075  1.075697  1.548782  ... -1.262460 -1.569800  1.884312  1.283269   \n",
       "2 -1.141360 -0.463132 -0.970370  ... -1.314038 -1.237768 -2.058224  0.609178   \n",
       "3 -1.171962  1.236470 -0.970370  ... -0.196525 -0.059414 -1.674438  1.620315   \n",
       "4 -1.202564  0.731183 -0.970370  ...  0.886603  0.969164 -0.732415  0.272132   \n",
       "\n",
       "   perchlorate    radium  selenium    silver   uranium  is_safe  \n",
       "0    -0.697957 -1.158201  1.748826 -0.890301 -1.660415        0  \n",
       "1     1.582721  1.605872  1.748826  0.224217  1.684773        0  \n",
       "2    -0.906576 -1.072093 -0.684134 -0.890301  0.569710        0  \n",
       "3    -0.435628 -0.779325  1.748826 -0.472357  0.569710        0  \n",
       "4    -0.612587 -0.985984  0.706129 -0.472357 -1.288728        0  \n",
       "\n",
       "[5 rows x 21 columns]"
      ]
     },
     "execution_count": 14,
     "metadata": {},
     "output_type": "execute_result"
    }
   ],
   "source": [
    "test_df.head()"
   ]
  },
  {
   "cell_type": "code",
   "execution_count": 15,
   "id": "e4faaf95",
   "metadata": {},
   "outputs": [],
   "source": [
    "X_test = test_df.drop(['is_safe'],axis=1)\n",
    "y_test = test_df[\"is_safe\"]"
   ]
  },
  {
   "cell_type": "markdown",
   "id": "87164a80",
   "metadata": {},
   "source": [
    "## Build Models"
   ]
  },
  {
   "cell_type": "code",
   "execution_count": 16,
   "id": "7a0ce809",
   "metadata": {},
   "outputs": [
    {
     "name": "stdout",
     "output_type": "stream",
     "text": [
      "Packages imported...\n"
     ]
    }
   ],
   "source": [
    "# Models\n",
    "# import torch\n",
    "# import torch.nn as nn\n",
    "from sklearn.svm import SVC\n",
    "from sklearn.linear_model import LogisticRegression\n",
    "from sklearn.ensemble import RandomForestClassifier\n",
    "from sklearn.tree import DecisionTreeClassifier\n",
    "from sklearn.ensemble import GradientBoostingClassifier\n",
    "\n",
    "# Metrics\n",
    "from sklearn.metrics import accuracy_score, classification_report, roc_curve\n",
    "\n",
    "# Cross Validation\n",
    "from sklearn.model_selection import cross_val_score\n",
    "from sklearn.model_selection import GridSearchCV\n",
    "\n",
    "print('Packages imported...')"
   ]
  },
  {
   "cell_type": "code",
   "execution_count": 19,
   "id": "61b800a0",
   "metadata": {},
   "outputs": [
    {
     "name": "stdout",
     "output_type": "stream",
     "text": [
      "The test accuracy score of SVM is  0.8865248226950354\n"
     ]
    }
   ],
   "source": [
    "# instantiating the object and fitting\n",
    "clf = SVC(kernel='linear', C=1, random_state=22).fit(X_train,y_train)\n",
    "\n",
    "# predicting the values\n",
    "y_pred_val = clf.predict(X_val)\n",
    "\n",
    "# printing the test accuracy\n",
    "print(\"The test accuracy score of SVM is \", accuracy_score(y_val, y_pred_val))"
   ]
  },
  {
   "cell_type": "code",
   "execution_count": 21,
   "id": "6a08ca6a",
   "metadata": {},
   "outputs": [
    {
     "name": "stdout",
     "output_type": "stream",
     "text": [
      "The test accuracy score of SVM is  0.7\n"
     ]
    }
   ],
   "source": [
    "# predicting the values\n",
    "y_test_pred_svm = clf.predict(X_test)\n",
    "\n",
    "# printing the test accuracy\n",
    "\n",
    "print(\"The test accuracy score of SVM is \", accuracy_score(y_test, y_test_pred_svm))"
   ]
  },
  {
   "cell_type": "code",
   "execution_count": 22,
   "id": "942f45e8",
   "metadata": {},
   "outputs": [],
   "source": [
    "\n",
    "# # instantiating the object\n",
    "# svm = SVC()\n",
    "\n",
    "# # setting a grid - not so extensive\n",
    "# parameters = {\"C\":np.arange(1,10,1),'gamma':[0.005,0.01,0.05,0.1]}\n",
    "\n",
    "# # instantiating the GridSearchCV object\n",
    "# searcher = GridSearchCV(svm, parameters)\n",
    "\n",
    "# # fitting the object\n",
    "# searcher.fit(X_train_scaled, y_train)\n",
    "\n",
    "# # the scores\n",
    "# print(\"The best params are :\", searcher.best_params_)\n",
    "# print(\"The best score is   :\", searcher.best_score_)\n"
   ]
  },
  {
   "cell_type": "code",
   "execution_count": 23,
   "id": "94d0b0a7",
   "metadata": {},
   "outputs": [],
   "source": [
    "\n",
    "# # predicting the values\n",
    "# y_pred = searcher.predict(X_test_scaled)\n",
    "\n",
    "# # printing the test accuracy\n",
    "# print(\"The test accuracy score of SVM after hyper-parameter tuning is \", accuracy_score(y_test, y_pred))"
   ]
  },
  {
   "cell_type": "markdown",
   "id": "cadf1423",
   "metadata": {},
   "source": [
    "### Train the Logistic Regression model"
   ]
  },
  {
   "cell_type": "code",
   "execution_count": 24,
   "id": "62eaecbc",
   "metadata": {},
   "outputs": [],
   "source": [
    "reg = LogisticRegression()"
   ]
  },
  {
   "cell_type": "code",
   "execution_count": 25,
   "id": "0a2b8b23",
   "metadata": {},
   "outputs": [
    {
     "data": {
      "text/plain": [
       "LogisticRegression()"
      ]
     },
     "execution_count": 25,
     "metadata": {},
     "output_type": "execute_result"
    }
   ],
   "source": [
    "reg.fit(X_train,y_train)"
   ]
  },
  {
   "cell_type": "code",
   "execution_count": 26,
   "id": "fa62fad8",
   "metadata": {},
   "outputs": [
    {
     "data": {
      "text/plain": [
       "0.8632326820603907"
      ]
     },
     "execution_count": 26,
     "metadata": {},
     "output_type": "execute_result"
    }
   ],
   "source": [
    "reg.score(X_train,y_train)"
   ]
  },
  {
   "cell_type": "code",
   "execution_count": null,
   "id": "435f171c",
   "metadata": {},
   "outputs": [],
   "source": []
  },
  {
   "cell_type": "markdown",
   "id": "f584b7a5",
   "metadata": {},
   "source": [
    "### Testing the model"
   ]
  },
  {
   "cell_type": "code",
   "execution_count": 27,
   "id": "3b88559e",
   "metadata": {},
   "outputs": [
    {
     "data": {
      "text/plain": [
       "0.8723404255319149"
      ]
     },
     "execution_count": 27,
     "metadata": {},
     "output_type": "execute_result"
    }
   ],
   "source": [
    "#validation testing\n",
    "reg.score(X_val,y_val)"
   ]
  },
  {
   "cell_type": "code",
   "execution_count": 29,
   "id": "248a7a10",
   "metadata": {},
   "outputs": [
    {
     "data": {
      "text/plain": [
       "0.69625"
      ]
     },
     "execution_count": 29,
     "metadata": {},
     "output_type": "execute_result"
    }
   ],
   "source": [
    "reg.score(X_test,y_test)"
   ]
  },
  {
   "cell_type": "markdown",
   "id": "75ffe4f4",
   "metadata": {},
   "source": [
    "### Train the Gradient Boosting Classifier model"
   ]
  },
  {
   "cell_type": "code",
   "execution_count": 30,
   "id": "3e848e00",
   "metadata": {},
   "outputs": [
    {
     "data": {
      "text/plain": [
       "GradientBoostingClassifier(max_depth=1, max_features=0.2, n_estimators=300,\n",
       "                           random_state=42, subsample=0.8)"
      ]
     },
     "execution_count": 30,
     "metadata": {},
     "output_type": "execute_result"
    }
   ],
   "source": [
    "# instantiate the classifier\n",
    "gbt = GradientBoostingClassifier(n_estimators = 300,max_depth=1,subsample=0.8,max_features=0.2,random_state=42)\n",
    "\n",
    "# fitting the model\n",
    "gbt.fit(X_train,y_train)\n"
   ]
  },
  {
   "cell_type": "code",
   "execution_count": 32,
   "id": "3f45e00c",
   "metadata": {},
   "outputs": [
    {
     "name": "stdout",
     "output_type": "stream",
     "text": [
      "The test accuracy score of Gradient Boosting Classifier is  0.9042553191489362\n"
     ]
    }
   ],
   "source": [
    "# predicting values with validation set\n",
    "y_pred_gbt = gbt.predict(X_val)\n",
    "print(\"The test accuracy score of Gradient Boosting Classifier is \", accuracy_score(y_val, y_pred_gbt))"
   ]
  },
  {
   "cell_type": "code",
   "execution_count": 34,
   "id": "5006ae02",
   "metadata": {},
   "outputs": [
    {
     "name": "stdout",
     "output_type": "stream",
     "text": [
      "The test accuracy score of Gradient Boosting Classifier is  0.715\n"
     ]
    }
   ],
   "source": [
    "# predicting values with test set\n",
    "y_test_pred = gbt.predict(X_test)\n",
    "print(\"The test accuracy score of Gradient Boosting Classifier is \", accuracy_score(y_test, y_test_pred))"
   ]
  },
  {
   "cell_type": "code",
   "execution_count": null,
   "id": "1d9a5c2a",
   "metadata": {},
   "outputs": [],
   "source": []
  },
  {
   "cell_type": "code",
   "execution_count": null,
   "id": "45b8e73f",
   "metadata": {},
   "outputs": [],
   "source": []
  }
 ],
 "metadata": {
  "kernelspec": {
   "display_name": "Python 3 (ipykernel)",
   "language": "python",
   "name": "python3"
  },
  "language_info": {
   "codemirror_mode": {
    "name": "ipython",
    "version": 3
   },
   "file_extension": ".py",
   "mimetype": "text/x-python",
   "name": "python",
   "nbconvert_exporter": "python",
   "pygments_lexer": "ipython3",
   "version": "3.9.7"
  }
 },
 "nbformat": 4,
 "nbformat_minor": 5
}
